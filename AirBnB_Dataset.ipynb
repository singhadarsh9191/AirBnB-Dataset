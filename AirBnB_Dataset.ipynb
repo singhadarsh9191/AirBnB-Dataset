{
  "cells": [
    {
      "cell_type": "markdown",
      "metadata": {
        "id": "view-in-github",
        "colab_type": "text"
      },
      "source": [
        "<a href=\"https://colab.research.google.com/github/singhadarsh9191/AirBnB-Dataset/blob/main/AirBnB_Dataset.ipynb\" target=\"_parent\"><img src=\"https://colab.research.google.com/assets/colab-badge.svg\" alt=\"Open In Colab\"/></a>"
      ]
    },
    {
      "cell_type": "markdown",
      "metadata": {
        "id": "zOhOR68L3PS3"
      },
      "source": [
        "# PART-1 (Data Cleaning and Manipulation)\n",
        "\n",
        "We will begin by importing the required modules and reading the data file."
      ],
      "id": "zOhOR68L3PS3"
    },
    {
      "cell_type": "code",
      "execution_count": null,
      "metadata": {
        "tags": [],
        "id": "Lxv3_eTD3PS4"
      },
      "outputs": [],
      "source": [
        "import numpy as np\n",
        "from sklearn.datasets import load_iris\n",
        "from sklearn import preprocessing\n",
        "import pandas as pd\n",
        "import seaborn as sns\n",
        "from scipy import stats\n",
        "import matplotlib.pyplot as plt\n",
        "%matplotlib inline"
      ],
      "id": "Lxv3_eTD3PS4"
    },
    {
      "cell_type": "code",
      "execution_count": null,
      "metadata": {
        "tags": [],
        "id": "IXHUb8P33PS6"
      },
      "outputs": [],
      "source": [
        "df = pd.read_csv(\"/content/airbnb_final (1) - airbnb_final (1).csv\")"
      ],
      "id": "IXHUb8P33PS6"
    },
    {
      "cell_type": "code",
      "execution_count": null,
      "metadata": {
        "tags": [],
        "id": "2OvGLN4d3PS6",
        "colab": {
          "base_uri": "https://localhost:8080/",
          "height": 348
        },
        "outputId": "49b8c6ee-e46b-4685-8f59-f15e47f38bc4"
      },
      "outputs": [
        {
          "output_type": "execute_result",
          "data": {
            "text/plain": [
              "     host_id                           neighbourhood  latitude  longitude  \\\n",
              "0     3159.0  Oostelijk Havengebied - Indische Buurt  52.36435    4.94358   \n",
              "1    59484.0                            Centrum-Oost  52.36407    4.89393   \n",
              "2  1100324.0                 De Pijp - Rivierenbuurt  52.35150    4.89656   \n",
              "3   748161.0                                Oud-Oost  52.36420    4.92829   \n",
              "4    97647.0                            Centrum-West  52.38761    4.89188   \n",
              "\n",
              "         room_type  price in $  minimum_nights  availability_365  \\\n",
              "0     Private room        69.0             3.0               7.0   \n",
              "1     Private room       106.0             1.0               0.0   \n",
              "2  Entire home/apt       270.0             4.0               2.0   \n",
              "3  Entire home/apt       200.0             3.0               0.0   \n",
              "4     Private room       137.0             3.0               0.0   \n",
              "\n",
              "  Apartment_type       City  Rating  No_of_bed_rooms  No_of_beds  \\\n",
              "0          Condo  Amsterdam    4.89              1.0         1.0   \n",
              "1      Townhouse  Amsterdam    4.44              1.0         1.0   \n",
              "2    Rental unit  Amsterdam    4.86              3.0         3.0   \n",
              "3    Rental unit  Amsterdam    4.76              1.0         1.0   \n",
              "4      Houseboat  Amsterdam    4.94              1.0         1.0   \n",
              "\n",
              "   No_of_bathrooms Bathroom_type  \n",
              "0              1.5        shared  \n",
              "1              NaN       private  \n",
              "2              1.5       private  \n",
              "3              1.5       private  \n",
              "4              1.5       private  "
            ],
            "text/html": [
              "\n",
              "  <div id=\"df-bc43b6ca-fcb6-4010-82d1-0b041ec12350\" class=\"colab-df-container\">\n",
              "    <div>\n",
              "<style scoped>\n",
              "    .dataframe tbody tr th:only-of-type {\n",
              "        vertical-align: middle;\n",
              "    }\n",
              "\n",
              "    .dataframe tbody tr th {\n",
              "        vertical-align: top;\n",
              "    }\n",
              "\n",
              "    .dataframe thead th {\n",
              "        text-align: right;\n",
              "    }\n",
              "</style>\n",
              "<table border=\"1\" class=\"dataframe\">\n",
              "  <thead>\n",
              "    <tr style=\"text-align: right;\">\n",
              "      <th></th>\n",
              "      <th>host_id</th>\n",
              "      <th>neighbourhood</th>\n",
              "      <th>latitude</th>\n",
              "      <th>longitude</th>\n",
              "      <th>room_type</th>\n",
              "      <th>price in $</th>\n",
              "      <th>minimum_nights</th>\n",
              "      <th>availability_365</th>\n",
              "      <th>Apartment_type</th>\n",
              "      <th>City</th>\n",
              "      <th>Rating</th>\n",
              "      <th>No_of_bed_rooms</th>\n",
              "      <th>No_of_beds</th>\n",
              "      <th>No_of_bathrooms</th>\n",
              "      <th>Bathroom_type</th>\n",
              "    </tr>\n",
              "  </thead>\n",
              "  <tbody>\n",
              "    <tr>\n",
              "      <th>0</th>\n",
              "      <td>3159.0</td>\n",
              "      <td>Oostelijk Havengebied - Indische Buurt</td>\n",
              "      <td>52.36435</td>\n",
              "      <td>4.94358</td>\n",
              "      <td>Private room</td>\n",
              "      <td>69.0</td>\n",
              "      <td>3.0</td>\n",
              "      <td>7.0</td>\n",
              "      <td>Condo</td>\n",
              "      <td>Amsterdam</td>\n",
              "      <td>4.89</td>\n",
              "      <td>1.0</td>\n",
              "      <td>1.0</td>\n",
              "      <td>1.5</td>\n",
              "      <td>shared</td>\n",
              "    </tr>\n",
              "    <tr>\n",
              "      <th>1</th>\n",
              "      <td>59484.0</td>\n",
              "      <td>Centrum-Oost</td>\n",
              "      <td>52.36407</td>\n",
              "      <td>4.89393</td>\n",
              "      <td>Private room</td>\n",
              "      <td>106.0</td>\n",
              "      <td>1.0</td>\n",
              "      <td>0.0</td>\n",
              "      <td>Townhouse</td>\n",
              "      <td>Amsterdam</td>\n",
              "      <td>4.44</td>\n",
              "      <td>1.0</td>\n",
              "      <td>1.0</td>\n",
              "      <td>NaN</td>\n",
              "      <td>private</td>\n",
              "    </tr>\n",
              "    <tr>\n",
              "      <th>2</th>\n",
              "      <td>1100324.0</td>\n",
              "      <td>De Pijp - Rivierenbuurt</td>\n",
              "      <td>52.35150</td>\n",
              "      <td>4.89656</td>\n",
              "      <td>Entire home/apt</td>\n",
              "      <td>270.0</td>\n",
              "      <td>4.0</td>\n",
              "      <td>2.0</td>\n",
              "      <td>Rental unit</td>\n",
              "      <td>Amsterdam</td>\n",
              "      <td>4.86</td>\n",
              "      <td>3.0</td>\n",
              "      <td>3.0</td>\n",
              "      <td>1.5</td>\n",
              "      <td>private</td>\n",
              "    </tr>\n",
              "    <tr>\n",
              "      <th>3</th>\n",
              "      <td>748161.0</td>\n",
              "      <td>Oud-Oost</td>\n",
              "      <td>52.36420</td>\n",
              "      <td>4.92829</td>\n",
              "      <td>Entire home/apt</td>\n",
              "      <td>200.0</td>\n",
              "      <td>3.0</td>\n",
              "      <td>0.0</td>\n",
              "      <td>Rental unit</td>\n",
              "      <td>Amsterdam</td>\n",
              "      <td>4.76</td>\n",
              "      <td>1.0</td>\n",
              "      <td>1.0</td>\n",
              "      <td>1.5</td>\n",
              "      <td>private</td>\n",
              "    </tr>\n",
              "    <tr>\n",
              "      <th>4</th>\n",
              "      <td>97647.0</td>\n",
              "      <td>Centrum-West</td>\n",
              "      <td>52.38761</td>\n",
              "      <td>4.89188</td>\n",
              "      <td>Private room</td>\n",
              "      <td>137.0</td>\n",
              "      <td>3.0</td>\n",
              "      <td>0.0</td>\n",
              "      <td>Houseboat</td>\n",
              "      <td>Amsterdam</td>\n",
              "      <td>4.94</td>\n",
              "      <td>1.0</td>\n",
              "      <td>1.0</td>\n",
              "      <td>1.5</td>\n",
              "      <td>private</td>\n",
              "    </tr>\n",
              "  </tbody>\n",
              "</table>\n",
              "</div>\n",
              "    <div class=\"colab-df-buttons\">\n",
              "\n",
              "  <div class=\"colab-df-container\">\n",
              "    <button class=\"colab-df-convert\" onclick=\"convertToInteractive('df-bc43b6ca-fcb6-4010-82d1-0b041ec12350')\"\n",
              "            title=\"Convert this dataframe to an interactive table.\"\n",
              "            style=\"display:none;\">\n",
              "\n",
              "  <svg xmlns=\"http://www.w3.org/2000/svg\" height=\"24px\" viewBox=\"0 -960 960 960\">\n",
              "    <path d=\"M120-120v-720h720v720H120Zm60-500h600v-160H180v160Zm220 220h160v-160H400v160Zm0 220h160v-160H400v160ZM180-400h160v-160H180v160Zm440 0h160v-160H620v160ZM180-180h160v-160H180v160Zm440 0h160v-160H620v160Z\"/>\n",
              "  </svg>\n",
              "    </button>\n",
              "\n",
              "  <style>\n",
              "    .colab-df-container {\n",
              "      display:flex;\n",
              "      gap: 12px;\n",
              "    }\n",
              "\n",
              "    .colab-df-convert {\n",
              "      background-color: #E8F0FE;\n",
              "      border: none;\n",
              "      border-radius: 50%;\n",
              "      cursor: pointer;\n",
              "      display: none;\n",
              "      fill: #1967D2;\n",
              "      height: 32px;\n",
              "      padding: 0 0 0 0;\n",
              "      width: 32px;\n",
              "    }\n",
              "\n",
              "    .colab-df-convert:hover {\n",
              "      background-color: #E2EBFA;\n",
              "      box-shadow: 0px 1px 2px rgba(60, 64, 67, 0.3), 0px 1px 3px 1px rgba(60, 64, 67, 0.15);\n",
              "      fill: #174EA6;\n",
              "    }\n",
              "\n",
              "    .colab-df-buttons div {\n",
              "      margin-bottom: 4px;\n",
              "    }\n",
              "\n",
              "    [theme=dark] .colab-df-convert {\n",
              "      background-color: #3B4455;\n",
              "      fill: #D2E3FC;\n",
              "    }\n",
              "\n",
              "    [theme=dark] .colab-df-convert:hover {\n",
              "      background-color: #434B5C;\n",
              "      box-shadow: 0px 1px 3px 1px rgba(0, 0, 0, 0.15);\n",
              "      filter: drop-shadow(0px 1px 2px rgba(0, 0, 0, 0.3));\n",
              "      fill: #FFFFFF;\n",
              "    }\n",
              "  </style>\n",
              "\n",
              "    <script>\n",
              "      const buttonEl =\n",
              "        document.querySelector('#df-bc43b6ca-fcb6-4010-82d1-0b041ec12350 button.colab-df-convert');\n",
              "      buttonEl.style.display =\n",
              "        google.colab.kernel.accessAllowed ? 'block' : 'none';\n",
              "\n",
              "      async function convertToInteractive(key) {\n",
              "        const element = document.querySelector('#df-bc43b6ca-fcb6-4010-82d1-0b041ec12350');\n",
              "        const dataTable =\n",
              "          await google.colab.kernel.invokeFunction('convertToInteractive',\n",
              "                                                    [key], {});\n",
              "        if (!dataTable) return;\n",
              "\n",
              "        const docLinkHtml = 'Like what you see? Visit the ' +\n",
              "          '<a target=\"_blank\" href=https://colab.research.google.com/notebooks/data_table.ipynb>data table notebook</a>'\n",
              "          + ' to learn more about interactive tables.';\n",
              "        element.innerHTML = '';\n",
              "        dataTable['output_type'] = 'display_data';\n",
              "        await google.colab.output.renderOutput(dataTable, element);\n",
              "        const docLink = document.createElement('div');\n",
              "        docLink.innerHTML = docLinkHtml;\n",
              "        element.appendChild(docLink);\n",
              "      }\n",
              "    </script>\n",
              "  </div>\n",
              "\n",
              "\n",
              "<div id=\"df-bac459ec-48e4-40bb-aa12-6840a8b7ed4a\">\n",
              "  <button class=\"colab-df-quickchart\" onclick=\"quickchart('df-bac459ec-48e4-40bb-aa12-6840a8b7ed4a')\"\n",
              "            title=\"Suggest charts.\"\n",
              "            style=\"display:none;\">\n",
              "\n",
              "<svg xmlns=\"http://www.w3.org/2000/svg\" height=\"24px\"viewBox=\"0 0 24 24\"\n",
              "     width=\"24px\">\n",
              "    <g>\n",
              "        <path d=\"M19 3H5c-1.1 0-2 .9-2 2v14c0 1.1.9 2 2 2h14c1.1 0 2-.9 2-2V5c0-1.1-.9-2-2-2zM9 17H7v-7h2v7zm4 0h-2V7h2v10zm4 0h-2v-4h2v4z\"/>\n",
              "    </g>\n",
              "</svg>\n",
              "  </button>\n",
              "\n",
              "<style>\n",
              "  .colab-df-quickchart {\n",
              "      --bg-color: #E8F0FE;\n",
              "      --fill-color: #1967D2;\n",
              "      --hover-bg-color: #E2EBFA;\n",
              "      --hover-fill-color: #174EA6;\n",
              "      --disabled-fill-color: #AAA;\n",
              "      --disabled-bg-color: #DDD;\n",
              "  }\n",
              "\n",
              "  [theme=dark] .colab-df-quickchart {\n",
              "      --bg-color: #3B4455;\n",
              "      --fill-color: #D2E3FC;\n",
              "      --hover-bg-color: #434B5C;\n",
              "      --hover-fill-color: #FFFFFF;\n",
              "      --disabled-bg-color: #3B4455;\n",
              "      --disabled-fill-color: #666;\n",
              "  }\n",
              "\n",
              "  .colab-df-quickchart {\n",
              "    background-color: var(--bg-color);\n",
              "    border: none;\n",
              "    border-radius: 50%;\n",
              "    cursor: pointer;\n",
              "    display: none;\n",
              "    fill: var(--fill-color);\n",
              "    height: 32px;\n",
              "    padding: 0;\n",
              "    width: 32px;\n",
              "  }\n",
              "\n",
              "  .colab-df-quickchart:hover {\n",
              "    background-color: var(--hover-bg-color);\n",
              "    box-shadow: 0 1px 2px rgba(60, 64, 67, 0.3), 0 1px 3px 1px rgba(60, 64, 67, 0.15);\n",
              "    fill: var(--button-hover-fill-color);\n",
              "  }\n",
              "\n",
              "  .colab-df-quickchart-complete:disabled,\n",
              "  .colab-df-quickchart-complete:disabled:hover {\n",
              "    background-color: var(--disabled-bg-color);\n",
              "    fill: var(--disabled-fill-color);\n",
              "    box-shadow: none;\n",
              "  }\n",
              "\n",
              "  .colab-df-spinner {\n",
              "    border: 2px solid var(--fill-color);\n",
              "    border-color: transparent;\n",
              "    border-bottom-color: var(--fill-color);\n",
              "    animation:\n",
              "      spin 1s steps(1) infinite;\n",
              "  }\n",
              "\n",
              "  @keyframes spin {\n",
              "    0% {\n",
              "      border-color: transparent;\n",
              "      border-bottom-color: var(--fill-color);\n",
              "      border-left-color: var(--fill-color);\n",
              "    }\n",
              "    20% {\n",
              "      border-color: transparent;\n",
              "      border-left-color: var(--fill-color);\n",
              "      border-top-color: var(--fill-color);\n",
              "    }\n",
              "    30% {\n",
              "      border-color: transparent;\n",
              "      border-left-color: var(--fill-color);\n",
              "      border-top-color: var(--fill-color);\n",
              "      border-right-color: var(--fill-color);\n",
              "    }\n",
              "    40% {\n",
              "      border-color: transparent;\n",
              "      border-right-color: var(--fill-color);\n",
              "      border-top-color: var(--fill-color);\n",
              "    }\n",
              "    60% {\n",
              "      border-color: transparent;\n",
              "      border-right-color: var(--fill-color);\n",
              "    }\n",
              "    80% {\n",
              "      border-color: transparent;\n",
              "      border-right-color: var(--fill-color);\n",
              "      border-bottom-color: var(--fill-color);\n",
              "    }\n",
              "    90% {\n",
              "      border-color: transparent;\n",
              "      border-bottom-color: var(--fill-color);\n",
              "    }\n",
              "  }\n",
              "</style>\n",
              "\n",
              "  <script>\n",
              "    async function quickchart(key) {\n",
              "      const quickchartButtonEl =\n",
              "        document.querySelector('#' + key + ' button');\n",
              "      quickchartButtonEl.disabled = true;  // To prevent multiple clicks.\n",
              "      quickchartButtonEl.classList.add('colab-df-spinner');\n",
              "      try {\n",
              "        const charts = await google.colab.kernel.invokeFunction(\n",
              "            'suggestCharts', [key], {});\n",
              "      } catch (error) {\n",
              "        console.error('Error during call to suggestCharts:', error);\n",
              "      }\n",
              "      quickchartButtonEl.classList.remove('colab-df-spinner');\n",
              "      quickchartButtonEl.classList.add('colab-df-quickchart-complete');\n",
              "    }\n",
              "    (() => {\n",
              "      let quickchartButtonEl =\n",
              "        document.querySelector('#df-bac459ec-48e4-40bb-aa12-6840a8b7ed4a button');\n",
              "      quickchartButtonEl.style.display =\n",
              "        google.colab.kernel.accessAllowed ? 'block' : 'none';\n",
              "    })();\n",
              "  </script>\n",
              "</div>\n",
              "    </div>\n",
              "  </div>\n"
            ]
          },
          "metadata": {},
          "execution_count": 38
        }
      ],
      "source": [
        "df.head()"
      ],
      "id": "2OvGLN4d3PS6"
    },
    {
      "cell_type": "markdown",
      "metadata": {
        "id": "DmccNJR03PS7"
      },
      "source": [
        "### 1.1. **What is the shape of the dataset?**"
      ],
      "id": "DmccNJR03PS7"
    },
    {
      "cell_type": "code",
      "execution_count": null,
      "metadata": {
        "tags": [],
        "id": "lMnDwyHF3PS8",
        "colab": {
          "base_uri": "https://localhost:8080/"
        },
        "outputId": "5d323b4f-983a-4458-b4ba-1ccb628d5e0e"
      },
      "outputs": [
        {
          "output_type": "execute_result",
          "data": {
            "text/plain": [
              "(7608, 15)"
            ]
          },
          "metadata": {},
          "execution_count": 39
        }
      ],
      "source": [
        "#Code goes here\n",
        "df.shape"
      ],
      "id": "lMnDwyHF3PS8"
    },
    {
      "cell_type": "markdown",
      "metadata": {
        "id": "Jdw-QOv43PS8"
      },
      "source": [
        "### 1.2 **Identify the data types of each column. Are there any columns that need type conversion?**"
      ],
      "id": "Jdw-QOv43PS8"
    },
    {
      "cell_type": "code",
      "execution_count": null,
      "metadata": {
        "tags": [],
        "id": "oTKCEOQx3PS9",
        "colab": {
          "base_uri": "https://localhost:8080/"
        },
        "outputId": "32035dd4-2468-46a7-c31f-13b8177d9a92"
      },
      "outputs": [
        {
          "output_type": "stream",
          "name": "stdout",
          "text": [
            "<class 'pandas.core.frame.DataFrame'>\n",
            "RangeIndex: 7608 entries, 0 to 7607\n",
            "Data columns (total 15 columns):\n",
            " #   Column            Non-Null Count  Dtype  \n",
            "---  ------            --------------  -----  \n",
            " 0   host_id           7602 non-null   float64\n",
            " 1   neighbourhood     7608 non-null   object \n",
            " 2   latitude          7604 non-null   float64\n",
            " 3   longitude         7602 non-null   float64\n",
            " 4   room_type         7608 non-null   object \n",
            " 5   price in $        7598 non-null   float64\n",
            " 6   minimum_nights    7599 non-null   float64\n",
            " 7   availability_365  7607 non-null   float64\n",
            " 8   Apartment_type    7607 non-null   object \n",
            " 9   City              7607 non-null   object \n",
            " 10  Rating            6030 non-null   float64\n",
            " 11  No_of_bed_rooms   7324 non-null   float64\n",
            " 12  No_of_beds        7591 non-null   float64\n",
            " 13  No_of_bathrooms   6804 non-null   float64\n",
            " 14  Bathroom_type     7607 non-null   object \n",
            "dtypes: float64(10), object(5)\n",
            "memory usage: 891.7+ KB\n"
          ]
        }
      ],
      "source": [
        "# 1.2.1 Code to identify data types goes here.\n",
        "df.info()\n"
      ],
      "id": "oTKCEOQx3PS9"
    },
    {
      "cell_type": "raw",
      "metadata": {
        "id": "IfRJoNBl3PS-"
      },
      "source": [
        "1.2.2 List the columns that need their type changed.\n"
      ],
      "id": "IfRJoNBl3PS-"
    },
    {
      "cell_type": "code",
      "execution_count": null,
      "metadata": {
        "tags": [],
        "id": "r4rg-03T3PS-"
      },
      "outputs": [],
      "source": [
        "# 1.2.3 change the host_id column to an integer\n",
        "df['host_id'] = df['host_id'].fillna(0).astype(int)\n",
        "df['host_id'] = df['host_id'].astype(int)"
      ],
      "id": "r4rg-03T3PS-"
    },
    {
      "cell_type": "markdown",
      "metadata": {
        "id": "Oe6DWIpY3PS-"
      },
      "source": [
        "### 1.3. **Are there any duplicate rows in the dataset? If yes, how would you handle them?**"
      ],
      "id": "Oe6DWIpY3PS-"
    },
    {
      "cell_type": "code",
      "execution_count": null,
      "metadata": {
        "tags": [],
        "id": "Lestft3y3PS_",
        "colab": {
          "base_uri": "https://localhost:8080/"
        },
        "outputId": "6377c035-1ea7-47d0-fff3-a3a499d527db"
      },
      "outputs": [
        {
          "output_type": "stream",
          "name": "stdout",
          "text": [
            "Empty DataFrame\n",
            "Columns: [host_id, neighbourhood, latitude, longitude, room_type, price in $, minimum_nights, availability_365, Apartment_type, City, Rating, No_of_bed_rooms, No_of_beds, No_of_bathrooms, Bathroom_type]\n",
            "Index: []\n"
          ]
        }
      ],
      "source": [
        "# 1.3.1 check for duplicate value\n",
        "duplicates = df.duplicated()\n",
        "duplicate_rows = df[duplicates]\n",
        "print(duplicate_rows)"
      ],
      "id": "Lestft3y3PS_"
    },
    {
      "cell_type": "raw",
      "metadata": {
        "id": "6q0jAJ9R3PS_"
      },
      "source": [
        "1.3.2 How would you handle duplicate rows?\n"
      ],
      "id": "6q0jAJ9R3PS_"
    },
    {
      "cell_type": "markdown",
      "metadata": {
        "id": "jISbjeX-3PS_"
      },
      "source": [
        "### 1.4. **Check for missing values, How would you handle the missing values in the dataset?**"
      ],
      "id": "jISbjeX-3PS_"
    },
    {
      "cell_type": "code",
      "execution_count": null,
      "metadata": {
        "tags": [],
        "id": "hmnEJXpg3PTA",
        "colab": {
          "base_uri": "https://localhost:8080/"
        },
        "outputId": "3c282882-3f60-47a8-c117-9182232ddd1d"
      },
      "outputs": [
        {
          "output_type": "execute_result",
          "data": {
            "text/plain": [
              "host_id                0\n",
              "neighbourhood          0\n",
              "latitude               4\n",
              "longitude              6\n",
              "room_type              0\n",
              "price in $            10\n",
              "minimum_nights         9\n",
              "availability_365       1\n",
              "Apartment_type         1\n",
              "City                   1\n",
              "Rating              1578\n",
              "No_of_bed_rooms      284\n",
              "No_of_beds            17\n",
              "No_of_bathrooms      804\n",
              "Bathroom_type          1\n",
              "dtype: int64"
            ]
          },
          "metadata": {},
          "execution_count": 43
        }
      ],
      "source": [
        "# 1.4.1 check for missing values\n",
        "df.isnull().sum()"
      ],
      "id": "hmnEJXpg3PTA"
    },
    {
      "cell_type": "raw",
      "metadata": {
        "id": "KquZxKm73PTA"
      },
      "source": [
        "1.4.2 List some ways you might handle columns with missing values.\n"
      ],
      "id": "KquZxKm73PTA"
    },
    {
      "cell_type": "code",
      "execution_count": null,
      "metadata": {
        "tags": [],
        "id": "cIAXQkff3PTA"
      },
      "outputs": [],
      "source": [
        "# 1.4.3 Populate missing values in the 'price in $' column with the mean.\n",
        "mean_values = df['price in $'].mean()\n",
        "df['price in $'] = df['price in $'].fillna(mean_values)"
      ],
      "id": "cIAXQkff3PTA"
    },
    {
      "cell_type": "code",
      "execution_count": null,
      "metadata": {
        "tags": [],
        "id": "U15oU9113PTB",
        "colab": {
          "base_uri": "https://localhost:8080/"
        },
        "outputId": "5ce82726-7e1a-4ba3-8366-3293eca97379"
      },
      "outputs": [
        {
          "output_type": "execute_result",
          "data": {
            "text/plain": [
              "0"
            ]
          },
          "metadata": {},
          "execution_count": 63
        }
      ],
      "source": [
        "# 1.4.4 Verify that there are no more missing values in the 'price in $' column\n",
        "df['price in $'].isnull().sum()"
      ],
      "id": "U15oU9113PTB"
    },
    {
      "cell_type": "code",
      "execution_count": null,
      "metadata": {
        "id": "COqNSVLd3PTB"
      },
      "outputs": [],
      "source": [
        "# 1.4.5 Populate all missing values in the City column with \"Amsterdam\"\n",
        "df['City'] = df['City'].fillna(\"Amsterdam\")\n"
      ],
      "id": "COqNSVLd3PTB"
    },
    {
      "cell_type": "code",
      "execution_count": null,
      "metadata": {
        "id": "yxJVtOQ83PTB",
        "colab": {
          "base_uri": "https://localhost:8080/"
        },
        "outputId": "368d53bc-7376-4c8f-af24-49a78aeabacf"
      },
      "outputs": [
        {
          "output_type": "execute_result",
          "data": {
            "text/plain": [
              "0"
            ]
          },
          "metadata": {},
          "execution_count": 65
        }
      ],
      "source": [
        "# 1.4.6 Verify that there are no more missing values in the 'City' column\n",
        "df['City'].isnull().sum()"
      ],
      "id": "yxJVtOQ83PTB"
    },
    {
      "cell_type": "code",
      "execution_count": null,
      "metadata": {
        "tags": [],
        "id": "fRYRpqpf3PTB"
      },
      "outputs": [],
      "source": [
        "# 1.4.7 Drop all remaining rows with missing data. Store the result in a new dataframe called df2.\n",
        "df2 = df.dropna()"
      ],
      "id": "fRYRpqpf3PTB"
    },
    {
      "cell_type": "code",
      "execution_count": null,
      "metadata": {
        "tags": [],
        "id": "-MSe038P3PTC",
        "colab": {
          "base_uri": "https://localhost:8080/",
          "height": 348
        },
        "outputId": "6fee8f10-edde-421f-dd80-f5e56a74f45d"
      },
      "outputs": [
        {
          "output_type": "execute_result",
          "data": {
            "text/plain": [
              "   host_id                           neighbourhood  latitude  longitude  \\\n",
              "0     3159  Oostelijk Havengebied - Indische Buurt  52.36435    4.94358   \n",
              "2  1100324                 De Pijp - Rivierenbuurt  52.35150    4.89656   \n",
              "3   748161                                Oud-Oost  52.36420    4.92829   \n",
              "4    97647                            Centrum-West  52.38761    4.89188   \n",
              "5   776296                  De Baarsjes - Oud-West  52.36270    4.85693   \n",
              "\n",
              "         room_type  price in $  minimum_nights  availability_365  \\\n",
              "0     Private room        69.0             3.0               7.0   \n",
              "2  Entire home/apt       270.0             4.0               2.0   \n",
              "3  Entire home/apt       200.0             3.0               0.0   \n",
              "4     Private room       137.0             3.0               0.0   \n",
              "5  Entire home/apt       170.0             3.0             157.0   \n",
              "\n",
              "  Apartment_type       City  Rating  No_of_bed_rooms  No_of_beds  \\\n",
              "0          Condo  Amsterdam    4.89              1.0         1.0   \n",
              "2    Rental unit  Amsterdam    4.86              3.0         3.0   \n",
              "3    Rental unit  Amsterdam    4.76              1.0         1.0   \n",
              "4      Houseboat  Amsterdam    4.94              1.0         1.0   \n",
              "5    Rental unit  Amsterdam    4.77              1.0         1.0   \n",
              "\n",
              "   No_of_bathrooms Bathroom_type  \n",
              "0              1.5        shared  \n",
              "2              1.5       private  \n",
              "3              1.5       private  \n",
              "4              1.5       private  \n",
              "5              1.0       private  "
            ],
            "text/html": [
              "\n",
              "  <div id=\"df-97de44d0-dbeb-468f-9f51-9f29efbead0c\" class=\"colab-df-container\">\n",
              "    <div>\n",
              "<style scoped>\n",
              "    .dataframe tbody tr th:only-of-type {\n",
              "        vertical-align: middle;\n",
              "    }\n",
              "\n",
              "    .dataframe tbody tr th {\n",
              "        vertical-align: top;\n",
              "    }\n",
              "\n",
              "    .dataframe thead th {\n",
              "        text-align: right;\n",
              "    }\n",
              "</style>\n",
              "<table border=\"1\" class=\"dataframe\">\n",
              "  <thead>\n",
              "    <tr style=\"text-align: right;\">\n",
              "      <th></th>\n",
              "      <th>host_id</th>\n",
              "      <th>neighbourhood</th>\n",
              "      <th>latitude</th>\n",
              "      <th>longitude</th>\n",
              "      <th>room_type</th>\n",
              "      <th>price in $</th>\n",
              "      <th>minimum_nights</th>\n",
              "      <th>availability_365</th>\n",
              "      <th>Apartment_type</th>\n",
              "      <th>City</th>\n",
              "      <th>Rating</th>\n",
              "      <th>No_of_bed_rooms</th>\n",
              "      <th>No_of_beds</th>\n",
              "      <th>No_of_bathrooms</th>\n",
              "      <th>Bathroom_type</th>\n",
              "    </tr>\n",
              "  </thead>\n",
              "  <tbody>\n",
              "    <tr>\n",
              "      <th>0</th>\n",
              "      <td>3159</td>\n",
              "      <td>Oostelijk Havengebied - Indische Buurt</td>\n",
              "      <td>52.36435</td>\n",
              "      <td>4.94358</td>\n",
              "      <td>Private room</td>\n",
              "      <td>69.0</td>\n",
              "      <td>3.0</td>\n",
              "      <td>7.0</td>\n",
              "      <td>Condo</td>\n",
              "      <td>Amsterdam</td>\n",
              "      <td>4.89</td>\n",
              "      <td>1.0</td>\n",
              "      <td>1.0</td>\n",
              "      <td>1.5</td>\n",
              "      <td>shared</td>\n",
              "    </tr>\n",
              "    <tr>\n",
              "      <th>2</th>\n",
              "      <td>1100324</td>\n",
              "      <td>De Pijp - Rivierenbuurt</td>\n",
              "      <td>52.35150</td>\n",
              "      <td>4.89656</td>\n",
              "      <td>Entire home/apt</td>\n",
              "      <td>270.0</td>\n",
              "      <td>4.0</td>\n",
              "      <td>2.0</td>\n",
              "      <td>Rental unit</td>\n",
              "      <td>Amsterdam</td>\n",
              "      <td>4.86</td>\n",
              "      <td>3.0</td>\n",
              "      <td>3.0</td>\n",
              "      <td>1.5</td>\n",
              "      <td>private</td>\n",
              "    </tr>\n",
              "    <tr>\n",
              "      <th>3</th>\n",
              "      <td>748161</td>\n",
              "      <td>Oud-Oost</td>\n",
              "      <td>52.36420</td>\n",
              "      <td>4.92829</td>\n",
              "      <td>Entire home/apt</td>\n",
              "      <td>200.0</td>\n",
              "      <td>3.0</td>\n",
              "      <td>0.0</td>\n",
              "      <td>Rental unit</td>\n",
              "      <td>Amsterdam</td>\n",
              "      <td>4.76</td>\n",
              "      <td>1.0</td>\n",
              "      <td>1.0</td>\n",
              "      <td>1.5</td>\n",
              "      <td>private</td>\n",
              "    </tr>\n",
              "    <tr>\n",
              "      <th>4</th>\n",
              "      <td>97647</td>\n",
              "      <td>Centrum-West</td>\n",
              "      <td>52.38761</td>\n",
              "      <td>4.89188</td>\n",
              "      <td>Private room</td>\n",
              "      <td>137.0</td>\n",
              "      <td>3.0</td>\n",
              "      <td>0.0</td>\n",
              "      <td>Houseboat</td>\n",
              "      <td>Amsterdam</td>\n",
              "      <td>4.94</td>\n",
              "      <td>1.0</td>\n",
              "      <td>1.0</td>\n",
              "      <td>1.5</td>\n",
              "      <td>private</td>\n",
              "    </tr>\n",
              "    <tr>\n",
              "      <th>5</th>\n",
              "      <td>776296</td>\n",
              "      <td>De Baarsjes - Oud-West</td>\n",
              "      <td>52.36270</td>\n",
              "      <td>4.85693</td>\n",
              "      <td>Entire home/apt</td>\n",
              "      <td>170.0</td>\n",
              "      <td>3.0</td>\n",
              "      <td>157.0</td>\n",
              "      <td>Rental unit</td>\n",
              "      <td>Amsterdam</td>\n",
              "      <td>4.77</td>\n",
              "      <td>1.0</td>\n",
              "      <td>1.0</td>\n",
              "      <td>1.0</td>\n",
              "      <td>private</td>\n",
              "    </tr>\n",
              "  </tbody>\n",
              "</table>\n",
              "</div>\n",
              "    <div class=\"colab-df-buttons\">\n",
              "\n",
              "  <div class=\"colab-df-container\">\n",
              "    <button class=\"colab-df-convert\" onclick=\"convertToInteractive('df-97de44d0-dbeb-468f-9f51-9f29efbead0c')\"\n",
              "            title=\"Convert this dataframe to an interactive table.\"\n",
              "            style=\"display:none;\">\n",
              "\n",
              "  <svg xmlns=\"http://www.w3.org/2000/svg\" height=\"24px\" viewBox=\"0 -960 960 960\">\n",
              "    <path d=\"M120-120v-720h720v720H120Zm60-500h600v-160H180v160Zm220 220h160v-160H400v160Zm0 220h160v-160H400v160ZM180-400h160v-160H180v160Zm440 0h160v-160H620v160ZM180-180h160v-160H180v160Zm440 0h160v-160H620v160Z\"/>\n",
              "  </svg>\n",
              "    </button>\n",
              "\n",
              "  <style>\n",
              "    .colab-df-container {\n",
              "      display:flex;\n",
              "      gap: 12px;\n",
              "    }\n",
              "\n",
              "    .colab-df-convert {\n",
              "      background-color: #E8F0FE;\n",
              "      border: none;\n",
              "      border-radius: 50%;\n",
              "      cursor: pointer;\n",
              "      display: none;\n",
              "      fill: #1967D2;\n",
              "      height: 32px;\n",
              "      padding: 0 0 0 0;\n",
              "      width: 32px;\n",
              "    }\n",
              "\n",
              "    .colab-df-convert:hover {\n",
              "      background-color: #E2EBFA;\n",
              "      box-shadow: 0px 1px 2px rgba(60, 64, 67, 0.3), 0px 1px 3px 1px rgba(60, 64, 67, 0.15);\n",
              "      fill: #174EA6;\n",
              "    }\n",
              "\n",
              "    .colab-df-buttons div {\n",
              "      margin-bottom: 4px;\n",
              "    }\n",
              "\n",
              "    [theme=dark] .colab-df-convert {\n",
              "      background-color: #3B4455;\n",
              "      fill: #D2E3FC;\n",
              "    }\n",
              "\n",
              "    [theme=dark] .colab-df-convert:hover {\n",
              "      background-color: #434B5C;\n",
              "      box-shadow: 0px 1px 3px 1px rgba(0, 0, 0, 0.15);\n",
              "      filter: drop-shadow(0px 1px 2px rgba(0, 0, 0, 0.3));\n",
              "      fill: #FFFFFF;\n",
              "    }\n",
              "  </style>\n",
              "\n",
              "    <script>\n",
              "      const buttonEl =\n",
              "        document.querySelector('#df-97de44d0-dbeb-468f-9f51-9f29efbead0c button.colab-df-convert');\n",
              "      buttonEl.style.display =\n",
              "        google.colab.kernel.accessAllowed ? 'block' : 'none';\n",
              "\n",
              "      async function convertToInteractive(key) {\n",
              "        const element = document.querySelector('#df-97de44d0-dbeb-468f-9f51-9f29efbead0c');\n",
              "        const dataTable =\n",
              "          await google.colab.kernel.invokeFunction('convertToInteractive',\n",
              "                                                    [key], {});\n",
              "        if (!dataTable) return;\n",
              "\n",
              "        const docLinkHtml = 'Like what you see? Visit the ' +\n",
              "          '<a target=\"_blank\" href=https://colab.research.google.com/notebooks/data_table.ipynb>data table notebook</a>'\n",
              "          + ' to learn more about interactive tables.';\n",
              "        element.innerHTML = '';\n",
              "        dataTable['output_type'] = 'display_data';\n",
              "        await google.colab.output.renderOutput(dataTable, element);\n",
              "        const docLink = document.createElement('div');\n",
              "        docLink.innerHTML = docLinkHtml;\n",
              "        element.appendChild(docLink);\n",
              "      }\n",
              "    </script>\n",
              "  </div>\n",
              "\n",
              "\n",
              "<div id=\"df-eb648dc9-d77b-4758-a381-33a1070f6074\">\n",
              "  <button class=\"colab-df-quickchart\" onclick=\"quickchart('df-eb648dc9-d77b-4758-a381-33a1070f6074')\"\n",
              "            title=\"Suggest charts.\"\n",
              "            style=\"display:none;\">\n",
              "\n",
              "<svg xmlns=\"http://www.w3.org/2000/svg\" height=\"24px\"viewBox=\"0 0 24 24\"\n",
              "     width=\"24px\">\n",
              "    <g>\n",
              "        <path d=\"M19 3H5c-1.1 0-2 .9-2 2v14c0 1.1.9 2 2 2h14c1.1 0 2-.9 2-2V5c0-1.1-.9-2-2-2zM9 17H7v-7h2v7zm4 0h-2V7h2v10zm4 0h-2v-4h2v4z\"/>\n",
              "    </g>\n",
              "</svg>\n",
              "  </button>\n",
              "\n",
              "<style>\n",
              "  .colab-df-quickchart {\n",
              "      --bg-color: #E8F0FE;\n",
              "      --fill-color: #1967D2;\n",
              "      --hover-bg-color: #E2EBFA;\n",
              "      --hover-fill-color: #174EA6;\n",
              "      --disabled-fill-color: #AAA;\n",
              "      --disabled-bg-color: #DDD;\n",
              "  }\n",
              "\n",
              "  [theme=dark] .colab-df-quickchart {\n",
              "      --bg-color: #3B4455;\n",
              "      --fill-color: #D2E3FC;\n",
              "      --hover-bg-color: #434B5C;\n",
              "      --hover-fill-color: #FFFFFF;\n",
              "      --disabled-bg-color: #3B4455;\n",
              "      --disabled-fill-color: #666;\n",
              "  }\n",
              "\n",
              "  .colab-df-quickchart {\n",
              "    background-color: var(--bg-color);\n",
              "    border: none;\n",
              "    border-radius: 50%;\n",
              "    cursor: pointer;\n",
              "    display: none;\n",
              "    fill: var(--fill-color);\n",
              "    height: 32px;\n",
              "    padding: 0;\n",
              "    width: 32px;\n",
              "  }\n",
              "\n",
              "  .colab-df-quickchart:hover {\n",
              "    background-color: var(--hover-bg-color);\n",
              "    box-shadow: 0 1px 2px rgba(60, 64, 67, 0.3), 0 1px 3px 1px rgba(60, 64, 67, 0.15);\n",
              "    fill: var(--button-hover-fill-color);\n",
              "  }\n",
              "\n",
              "  .colab-df-quickchart-complete:disabled,\n",
              "  .colab-df-quickchart-complete:disabled:hover {\n",
              "    background-color: var(--disabled-bg-color);\n",
              "    fill: var(--disabled-fill-color);\n",
              "    box-shadow: none;\n",
              "  }\n",
              "\n",
              "  .colab-df-spinner {\n",
              "    border: 2px solid var(--fill-color);\n",
              "    border-color: transparent;\n",
              "    border-bottom-color: var(--fill-color);\n",
              "    animation:\n",
              "      spin 1s steps(1) infinite;\n",
              "  }\n",
              "\n",
              "  @keyframes spin {\n",
              "    0% {\n",
              "      border-color: transparent;\n",
              "      border-bottom-color: var(--fill-color);\n",
              "      border-left-color: var(--fill-color);\n",
              "    }\n",
              "    20% {\n",
              "      border-color: transparent;\n",
              "      border-left-color: var(--fill-color);\n",
              "      border-top-color: var(--fill-color);\n",
              "    }\n",
              "    30% {\n",
              "      border-color: transparent;\n",
              "      border-left-color: var(--fill-color);\n",
              "      border-top-color: var(--fill-color);\n",
              "      border-right-color: var(--fill-color);\n",
              "    }\n",
              "    40% {\n",
              "      border-color: transparent;\n",
              "      border-right-color: var(--fill-color);\n",
              "      border-top-color: var(--fill-color);\n",
              "    }\n",
              "    60% {\n",
              "      border-color: transparent;\n",
              "      border-right-color: var(--fill-color);\n",
              "    }\n",
              "    80% {\n",
              "      border-color: transparent;\n",
              "      border-right-color: var(--fill-color);\n",
              "      border-bottom-color: var(--fill-color);\n",
              "    }\n",
              "    90% {\n",
              "      border-color: transparent;\n",
              "      border-bottom-color: var(--fill-color);\n",
              "    }\n",
              "  }\n",
              "</style>\n",
              "\n",
              "  <script>\n",
              "    async function quickchart(key) {\n",
              "      const quickchartButtonEl =\n",
              "        document.querySelector('#' + key + ' button');\n",
              "      quickchartButtonEl.disabled = true;  // To prevent multiple clicks.\n",
              "      quickchartButtonEl.classList.add('colab-df-spinner');\n",
              "      try {\n",
              "        const charts = await google.colab.kernel.invokeFunction(\n",
              "            'suggestCharts', [key], {});\n",
              "      } catch (error) {\n",
              "        console.error('Error during call to suggestCharts:', error);\n",
              "      }\n",
              "      quickchartButtonEl.classList.remove('colab-df-spinner');\n",
              "      quickchartButtonEl.classList.add('colab-df-quickchart-complete');\n",
              "    }\n",
              "    (() => {\n",
              "      let quickchartButtonEl =\n",
              "        document.querySelector('#df-eb648dc9-d77b-4758-a381-33a1070f6074 button');\n",
              "      quickchartButtonEl.style.display =\n",
              "        google.colab.kernel.accessAllowed ? 'block' : 'none';\n",
              "    })();\n",
              "  </script>\n",
              "</div>\n",
              "    </div>\n",
              "  </div>\n"
            ]
          },
          "metadata": {},
          "execution_count": 49
        }
      ],
      "source": [
        "df2.head()"
      ],
      "id": "-MSe038P3PTC"
    },
    {
      "cell_type": "markdown",
      "metadata": {
        "tags": [],
        "id": "pHwUTTaH3PTC"
      },
      "source": [
        "### 1.5. Compare the shapes of the original (df) and new (df2) dataframes, and verify there are no missing values in df2."
      ],
      "id": "pHwUTTaH3PTC"
    },
    {
      "cell_type": "code",
      "execution_count": null,
      "metadata": {
        "tags": [],
        "id": "_Dg-iF-f3PTC",
        "colab": {
          "base_uri": "https://localhost:8080/"
        },
        "outputId": "7aac692b-2a29-44c7-a5fe-7297f880c793"
      },
      "outputs": [
        {
          "output_type": "stream",
          "name": "stdout",
          "text": [
            "Old shape: (7608, 15)\n",
            "New shape: (5108, 15)\n"
          ]
        }
      ],
      "source": [
        "# 1.5.1 code to show shapes of old and new dataframes\n",
        "print(f'Old shape: {df.shape}')\n",
        "print(f'New shape: {df2.shape}')"
      ],
      "id": "_Dg-iF-f3PTC"
    },
    {
      "cell_type": "code",
      "execution_count": null,
      "metadata": {
        "tags": [],
        "id": "QZRwKX943PTC",
        "colab": {
          "base_uri": "https://localhost:8080/"
        },
        "outputId": "906e8600-a780-4e60-f02d-cb25c2555df3"
      },
      "outputs": [
        {
          "output_type": "execute_result",
          "data": {
            "text/plain": [
              "host_id             0\n",
              "neighbourhood       0\n",
              "latitude            0\n",
              "longitude           0\n",
              "room_type           0\n",
              "price in $          0\n",
              "minimum_nights      0\n",
              "availability_365    0\n",
              "Apartment_type      0\n",
              "City                0\n",
              "Rating              0\n",
              "No_of_bed_rooms     0\n",
              "No_of_beds          0\n",
              "No_of_bathrooms     0\n",
              "Bathroom_type       0\n",
              "dtype: int64"
            ]
          },
          "metadata": {},
          "execution_count": 77
        }
      ],
      "source": [
        "# 1.5.2 Code to verify no missing values\n",
        "df2.isnull().sum()"
      ],
      "id": "QZRwKX943PTC"
    },
    {
      "cell_type": "markdown",
      "metadata": {
        "id": "gsGUZ5sG3PTC"
      },
      "source": [
        "### 1.6. **Drop the 'latitude' and 'longitude' columns. How does it affect\n",
        "\n",
        "1.   List item\n",
        "2.   List item\n",
        "\n",
        "the shape of the dataset?**"
      ],
      "id": "gsGUZ5sG3PTC"
    },
    {
      "cell_type": "code",
      "execution_count": null,
      "metadata": {
        "tags": [],
        "id": "BXLf2cvO3PTC"
      },
      "outputs": [],
      "source": [
        "# 1.6.1 Code goes here\n",
        "df2 = df2.drop(['latitude', 'longitude'], axis=1)"
      ],
      "id": "BXLf2cvO3PTC"
    },
    {
      "cell_type": "code",
      "execution_count": null,
      "metadata": {
        "id": "V_-pe6L93PTC",
        "colab": {
          "base_uri": "https://localhost:8080/"
        },
        "outputId": "7437de08-4454-4314-cf9e-fad96d7c450e"
      },
      "outputs": [
        {
          "output_type": "execute_result",
          "data": {
            "text/plain": [
              "(5108, 13)"
            ]
          },
          "metadata": {},
          "execution_count": 95
        }
      ],
      "source": [
        "# 1.6.2 Show new shape\n",
        "df2.shape"
      ],
      "id": "V_-pe6L93PTC"
    },
    {
      "cell_type": "markdown",
      "metadata": {
        "id": "bG6OKZh03PTD"
      },
      "source": [
        "### 1.7. **List the  unique values in Apartment_type and Bathroom_type**"
      ],
      "id": "bG6OKZh03PTD"
    },
    {
      "cell_type": "code",
      "execution_count": null,
      "metadata": {
        "tags": [],
        "id": "ve3MfDlt3PTD",
        "colab": {
          "base_uri": "https://localhost:8080/"
        },
        "outputId": "ca553a10-d702-4ac8-8341-0f4ce7eba9bd"
      },
      "outputs": [
        {
          "output_type": "stream",
          "name": "stdout",
          "text": [
            "['Condo' 'Townhouse' 'Rental unit' 'Houseboat' 'Guest suite'\n",
            " 'Boutique hotel' 'Home' 'Loft' 'Bed and breakfast' 'Boat' 'Guesthouse'\n",
            " nan 'Farm stay' 'Place to stay' 'Chalet' 'Villa' 'Tiny home' 'Bungalow'\n",
            " 'casa particular' 'Serviced apartment' 'Barn' 'Hotel' 'Cabin'\n",
            " 'Aparthotel' 'Cottage' 'Nature lodge' 'Earthen home' 'Vacation home'\n",
            " 'Tower' 'Hostel' 'Cave' 'Camper/RV' 'Yurt' 'Tent']\n"
          ]
        }
      ],
      "source": [
        "# 1.7.1 Find and list the unique apartment tpyes.\n",
        "unique_apartment_types = df['Apartment_type'].unique()\n",
        "print(unique_apartment_types)"
      ],
      "id": "ve3MfDlt3PTD"
    },
    {
      "cell_type": "code",
      "execution_count": null,
      "metadata": {
        "tags": [],
        "id": "PuvR54z33PTD",
        "colab": {
          "base_uri": "https://localhost:8080/"
        },
        "outputId": "4b6bb02e-d73e-4ec7-e2f2-732d9e0164ed"
      },
      "outputs": [
        {
          "output_type": "stream",
          "name": "stdout",
          "text": [
            "['shared' 'private' nan]\n"
          ]
        }
      ],
      "source": [
        "# 1.7.2 Find and list the unuque bathroom types.\n",
        "unique_bathroom_types = df['Bathroom_type'].unique()\n",
        "print(unique_bathroom_types)\n"
      ],
      "id": "PuvR54z33PTD"
    },
    {
      "cell_type": "markdown",
      "metadata": {
        "id": "AXruGnSV3PTD"
      },
      "source": [
        "### 1.8. **Replace the bathroom types (shared and private) with integers (0 and 1).**"
      ],
      "id": "AXruGnSV3PTD"
    },
    {
      "cell_type": "code",
      "execution_count": null,
      "metadata": {
        "tags": [],
        "id": "7qzArnr93PTD"
      },
      "outputs": [],
      "source": [
        "# 1.8.1 Replace the strings with integers\n",
        "df2['Bathroom_type'] = df2['Bathroom_type'].replace({'shared': 0, np.nan: 0, 'private': 1})"
      ],
      "id": "7qzArnr93PTD"
    },
    {
      "cell_type": "code",
      "execution_count": null,
      "metadata": {
        "scrolled": true,
        "tags": [],
        "id": "FfLTv4qR3PTD",
        "colab": {
          "base_uri": "https://localhost:8080/",
          "height": 348
        },
        "outputId": "69ff74b5-0124-4ee0-b801-8d3286e8c90d"
      },
      "outputs": [
        {
          "output_type": "execute_result",
          "data": {
            "text/plain": [
              "   host_id                           neighbourhood        room_type  \\\n",
              "0     3159  Oostelijk Havengebied - Indische Buurt     Private room   \n",
              "2  1100324                 De Pijp - Rivierenbuurt  Entire home/apt   \n",
              "3   748161                                Oud-Oost  Entire home/apt   \n",
              "4    97647                            Centrum-West     Private room   \n",
              "5   776296                  De Baarsjes - Oud-West  Entire home/apt   \n",
              "\n",
              "   price in $  minimum_nights  availability_365 Apartment_type       City  \\\n",
              "0        69.0             3.0               7.0          Condo  Amsterdam   \n",
              "2       270.0             4.0               2.0    Rental unit  Amsterdam   \n",
              "3       200.0             3.0               0.0    Rental unit  Amsterdam   \n",
              "4       137.0             3.0               0.0      Houseboat  Amsterdam   \n",
              "5       170.0             3.0             157.0    Rental unit  Amsterdam   \n",
              "\n",
              "   Rating  No_of_bed_rooms  No_of_beds  No_of_bathrooms  Bathroom_type  \n",
              "0    4.89              1.0         1.0              1.5              0  \n",
              "2    4.86              3.0         3.0              1.5              1  \n",
              "3    4.76              1.0         1.0              1.5              1  \n",
              "4    4.94              1.0         1.0              1.5              1  \n",
              "5    4.77              1.0         1.0              1.0              1  "
            ],
            "text/html": [
              "\n",
              "  <div id=\"df-8ad82ca4-0c76-4654-a865-59edff974c00\" class=\"colab-df-container\">\n",
              "    <div>\n",
              "<style scoped>\n",
              "    .dataframe tbody tr th:only-of-type {\n",
              "        vertical-align: middle;\n",
              "    }\n",
              "\n",
              "    .dataframe tbody tr th {\n",
              "        vertical-align: top;\n",
              "    }\n",
              "\n",
              "    .dataframe thead th {\n",
              "        text-align: right;\n",
              "    }\n",
              "</style>\n",
              "<table border=\"1\" class=\"dataframe\">\n",
              "  <thead>\n",
              "    <tr style=\"text-align: right;\">\n",
              "      <th></th>\n",
              "      <th>host_id</th>\n",
              "      <th>neighbourhood</th>\n",
              "      <th>room_type</th>\n",
              "      <th>price in $</th>\n",
              "      <th>minimum_nights</th>\n",
              "      <th>availability_365</th>\n",
              "      <th>Apartment_type</th>\n",
              "      <th>City</th>\n",
              "      <th>Rating</th>\n",
              "      <th>No_of_bed_rooms</th>\n",
              "      <th>No_of_beds</th>\n",
              "      <th>No_of_bathrooms</th>\n",
              "      <th>Bathroom_type</th>\n",
              "    </tr>\n",
              "  </thead>\n",
              "  <tbody>\n",
              "    <tr>\n",
              "      <th>0</th>\n",
              "      <td>3159</td>\n",
              "      <td>Oostelijk Havengebied - Indische Buurt</td>\n",
              "      <td>Private room</td>\n",
              "      <td>69.0</td>\n",
              "      <td>3.0</td>\n",
              "      <td>7.0</td>\n",
              "      <td>Condo</td>\n",
              "      <td>Amsterdam</td>\n",
              "      <td>4.89</td>\n",
              "      <td>1.0</td>\n",
              "      <td>1.0</td>\n",
              "      <td>1.5</td>\n",
              "      <td>0</td>\n",
              "    </tr>\n",
              "    <tr>\n",
              "      <th>2</th>\n",
              "      <td>1100324</td>\n",
              "      <td>De Pijp - Rivierenbuurt</td>\n",
              "      <td>Entire home/apt</td>\n",
              "      <td>270.0</td>\n",
              "      <td>4.0</td>\n",
              "      <td>2.0</td>\n",
              "      <td>Rental unit</td>\n",
              "      <td>Amsterdam</td>\n",
              "      <td>4.86</td>\n",
              "      <td>3.0</td>\n",
              "      <td>3.0</td>\n",
              "      <td>1.5</td>\n",
              "      <td>1</td>\n",
              "    </tr>\n",
              "    <tr>\n",
              "      <th>3</th>\n",
              "      <td>748161</td>\n",
              "      <td>Oud-Oost</td>\n",
              "      <td>Entire home/apt</td>\n",
              "      <td>200.0</td>\n",
              "      <td>3.0</td>\n",
              "      <td>0.0</td>\n",
              "      <td>Rental unit</td>\n",
              "      <td>Amsterdam</td>\n",
              "      <td>4.76</td>\n",
              "      <td>1.0</td>\n",
              "      <td>1.0</td>\n",
              "      <td>1.5</td>\n",
              "      <td>1</td>\n",
              "    </tr>\n",
              "    <tr>\n",
              "      <th>4</th>\n",
              "      <td>97647</td>\n",
              "      <td>Centrum-West</td>\n",
              "      <td>Private room</td>\n",
              "      <td>137.0</td>\n",
              "      <td>3.0</td>\n",
              "      <td>0.0</td>\n",
              "      <td>Houseboat</td>\n",
              "      <td>Amsterdam</td>\n",
              "      <td>4.94</td>\n",
              "      <td>1.0</td>\n",
              "      <td>1.0</td>\n",
              "      <td>1.5</td>\n",
              "      <td>1</td>\n",
              "    </tr>\n",
              "    <tr>\n",
              "      <th>5</th>\n",
              "      <td>776296</td>\n",
              "      <td>De Baarsjes - Oud-West</td>\n",
              "      <td>Entire home/apt</td>\n",
              "      <td>170.0</td>\n",
              "      <td>3.0</td>\n",
              "      <td>157.0</td>\n",
              "      <td>Rental unit</td>\n",
              "      <td>Amsterdam</td>\n",
              "      <td>4.77</td>\n",
              "      <td>1.0</td>\n",
              "      <td>1.0</td>\n",
              "      <td>1.0</td>\n",
              "      <td>1</td>\n",
              "    </tr>\n",
              "  </tbody>\n",
              "</table>\n",
              "</div>\n",
              "    <div class=\"colab-df-buttons\">\n",
              "\n",
              "  <div class=\"colab-df-container\">\n",
              "    <button class=\"colab-df-convert\" onclick=\"convertToInteractive('df-8ad82ca4-0c76-4654-a865-59edff974c00')\"\n",
              "            title=\"Convert this dataframe to an interactive table.\"\n",
              "            style=\"display:none;\">\n",
              "\n",
              "  <svg xmlns=\"http://www.w3.org/2000/svg\" height=\"24px\" viewBox=\"0 -960 960 960\">\n",
              "    <path d=\"M120-120v-720h720v720H120Zm60-500h600v-160H180v160Zm220 220h160v-160H400v160Zm0 220h160v-160H400v160ZM180-400h160v-160H180v160Zm440 0h160v-160H620v160ZM180-180h160v-160H180v160Zm440 0h160v-160H620v160Z\"/>\n",
              "  </svg>\n",
              "    </button>\n",
              "\n",
              "  <style>\n",
              "    .colab-df-container {\n",
              "      display:flex;\n",
              "      gap: 12px;\n",
              "    }\n",
              "\n",
              "    .colab-df-convert {\n",
              "      background-color: #E8F0FE;\n",
              "      border: none;\n",
              "      border-radius: 50%;\n",
              "      cursor: pointer;\n",
              "      display: none;\n",
              "      fill: #1967D2;\n",
              "      height: 32px;\n",
              "      padding: 0 0 0 0;\n",
              "      width: 32px;\n",
              "    }\n",
              "\n",
              "    .colab-df-convert:hover {\n",
              "      background-color: #E2EBFA;\n",
              "      box-shadow: 0px 1px 2px rgba(60, 64, 67, 0.3), 0px 1px 3px 1px rgba(60, 64, 67, 0.15);\n",
              "      fill: #174EA6;\n",
              "    }\n",
              "\n",
              "    .colab-df-buttons div {\n",
              "      margin-bottom: 4px;\n",
              "    }\n",
              "\n",
              "    [theme=dark] .colab-df-convert {\n",
              "      background-color: #3B4455;\n",
              "      fill: #D2E3FC;\n",
              "    }\n",
              "\n",
              "    [theme=dark] .colab-df-convert:hover {\n",
              "      background-color: #434B5C;\n",
              "      box-shadow: 0px 1px 3px 1px rgba(0, 0, 0, 0.15);\n",
              "      filter: drop-shadow(0px 1px 2px rgba(0, 0, 0, 0.3));\n",
              "      fill: #FFFFFF;\n",
              "    }\n",
              "  </style>\n",
              "\n",
              "    <script>\n",
              "      const buttonEl =\n",
              "        document.querySelector('#df-8ad82ca4-0c76-4654-a865-59edff974c00 button.colab-df-convert');\n",
              "      buttonEl.style.display =\n",
              "        google.colab.kernel.accessAllowed ? 'block' : 'none';\n",
              "\n",
              "      async function convertToInteractive(key) {\n",
              "        const element = document.querySelector('#df-8ad82ca4-0c76-4654-a865-59edff974c00');\n",
              "        const dataTable =\n",
              "          await google.colab.kernel.invokeFunction('convertToInteractive',\n",
              "                                                    [key], {});\n",
              "        if (!dataTable) return;\n",
              "\n",
              "        const docLinkHtml = 'Like what you see? Visit the ' +\n",
              "          '<a target=\"_blank\" href=https://colab.research.google.com/notebooks/data_table.ipynb>data table notebook</a>'\n",
              "          + ' to learn more about interactive tables.';\n",
              "        element.innerHTML = '';\n",
              "        dataTable['output_type'] = 'display_data';\n",
              "        await google.colab.output.renderOutput(dataTable, element);\n",
              "        const docLink = document.createElement('div');\n",
              "        docLink.innerHTML = docLinkHtml;\n",
              "        element.appendChild(docLink);\n",
              "      }\n",
              "    </script>\n",
              "  </div>\n",
              "\n",
              "\n",
              "<div id=\"df-4d49ee0b-2b61-4082-8a24-f2b9aa4e7cd0\">\n",
              "  <button class=\"colab-df-quickchart\" onclick=\"quickchart('df-4d49ee0b-2b61-4082-8a24-f2b9aa4e7cd0')\"\n",
              "            title=\"Suggest charts.\"\n",
              "            style=\"display:none;\">\n",
              "\n",
              "<svg xmlns=\"http://www.w3.org/2000/svg\" height=\"24px\"viewBox=\"0 0 24 24\"\n",
              "     width=\"24px\">\n",
              "    <g>\n",
              "        <path d=\"M19 3H5c-1.1 0-2 .9-2 2v14c0 1.1.9 2 2 2h14c1.1 0 2-.9 2-2V5c0-1.1-.9-2-2-2zM9 17H7v-7h2v7zm4 0h-2V7h2v10zm4 0h-2v-4h2v4z\"/>\n",
              "    </g>\n",
              "</svg>\n",
              "  </button>\n",
              "\n",
              "<style>\n",
              "  .colab-df-quickchart {\n",
              "      --bg-color: #E8F0FE;\n",
              "      --fill-color: #1967D2;\n",
              "      --hover-bg-color: #E2EBFA;\n",
              "      --hover-fill-color: #174EA6;\n",
              "      --disabled-fill-color: #AAA;\n",
              "      --disabled-bg-color: #DDD;\n",
              "  }\n",
              "\n",
              "  [theme=dark] .colab-df-quickchart {\n",
              "      --bg-color: #3B4455;\n",
              "      --fill-color: #D2E3FC;\n",
              "      --hover-bg-color: #434B5C;\n",
              "      --hover-fill-color: #FFFFFF;\n",
              "      --disabled-bg-color: #3B4455;\n",
              "      --disabled-fill-color: #666;\n",
              "  }\n",
              "\n",
              "  .colab-df-quickchart {\n",
              "    background-color: var(--bg-color);\n",
              "    border: none;\n",
              "    border-radius: 50%;\n",
              "    cursor: pointer;\n",
              "    display: none;\n",
              "    fill: var(--fill-color);\n",
              "    height: 32px;\n",
              "    padding: 0;\n",
              "    width: 32px;\n",
              "  }\n",
              "\n",
              "  .colab-df-quickchart:hover {\n",
              "    background-color: var(--hover-bg-color);\n",
              "    box-shadow: 0 1px 2px rgba(60, 64, 67, 0.3), 0 1px 3px 1px rgba(60, 64, 67, 0.15);\n",
              "    fill: var(--button-hover-fill-color);\n",
              "  }\n",
              "\n",
              "  .colab-df-quickchart-complete:disabled,\n",
              "  .colab-df-quickchart-complete:disabled:hover {\n",
              "    background-color: var(--disabled-bg-color);\n",
              "    fill: var(--disabled-fill-color);\n",
              "    box-shadow: none;\n",
              "  }\n",
              "\n",
              "  .colab-df-spinner {\n",
              "    border: 2px solid var(--fill-color);\n",
              "    border-color: transparent;\n",
              "    border-bottom-color: var(--fill-color);\n",
              "    animation:\n",
              "      spin 1s steps(1) infinite;\n",
              "  }\n",
              "\n",
              "  @keyframes spin {\n",
              "    0% {\n",
              "      border-color: transparent;\n",
              "      border-bottom-color: var(--fill-color);\n",
              "      border-left-color: var(--fill-color);\n",
              "    }\n",
              "    20% {\n",
              "      border-color: transparent;\n",
              "      border-left-color: var(--fill-color);\n",
              "      border-top-color: var(--fill-color);\n",
              "    }\n",
              "    30% {\n",
              "      border-color: transparent;\n",
              "      border-left-color: var(--fill-color);\n",
              "      border-top-color: var(--fill-color);\n",
              "      border-right-color: var(--fill-color);\n",
              "    }\n",
              "    40% {\n",
              "      border-color: transparent;\n",
              "      border-right-color: var(--fill-color);\n",
              "      border-top-color: var(--fill-color);\n",
              "    }\n",
              "    60% {\n",
              "      border-color: transparent;\n",
              "      border-right-color: var(--fill-color);\n",
              "    }\n",
              "    80% {\n",
              "      border-color: transparent;\n",
              "      border-right-color: var(--fill-color);\n",
              "      border-bottom-color: var(--fill-color);\n",
              "    }\n",
              "    90% {\n",
              "      border-color: transparent;\n",
              "      border-bottom-color: var(--fill-color);\n",
              "    }\n",
              "  }\n",
              "</style>\n",
              "\n",
              "  <script>\n",
              "    async function quickchart(key) {\n",
              "      const quickchartButtonEl =\n",
              "        document.querySelector('#' + key + ' button');\n",
              "      quickchartButtonEl.disabled = true;  // To prevent multiple clicks.\n",
              "      quickchartButtonEl.classList.add('colab-df-spinner');\n",
              "      try {\n",
              "        const charts = await google.colab.kernel.invokeFunction(\n",
              "            'suggestCharts', [key], {});\n",
              "      } catch (error) {\n",
              "        console.error('Error during call to suggestCharts:', error);\n",
              "      }\n",
              "      quickchartButtonEl.classList.remove('colab-df-spinner');\n",
              "      quickchartButtonEl.classList.add('colab-df-quickchart-complete');\n",
              "    }\n",
              "    (() => {\n",
              "      let quickchartButtonEl =\n",
              "        document.querySelector('#df-4d49ee0b-2b61-4082-8a24-f2b9aa4e7cd0 button');\n",
              "      quickchartButtonEl.style.display =\n",
              "        google.colab.kernel.accessAllowed ? 'block' : 'none';\n",
              "    })();\n",
              "  </script>\n",
              "</div>\n",
              "    </div>\n",
              "  </div>\n"
            ]
          },
          "metadata": {},
          "execution_count": 98
        }
      ],
      "source": [
        "# 1.8.2 Verify the changes\n",
        "df2.head()"
      ],
      "id": "FfLTv4qR3PTD"
    },
    {
      "cell_type": "markdown",
      "metadata": {
        "id": "4e-NB1Ed3PTD"
      },
      "source": [
        "# Part - 2 (Exploratory Data Analysis)"
      ],
      "id": "4e-NB1Ed3PTD"
    },
    {
      "cell_type": "markdown",
      "metadata": {
        "id": "Ghl-yHbW3PTE"
      },
      "source": [
        "Exploratory Data Analysis refers to the critical process of performing initial investigations on data so as to discover patterns,to spot anomalies,to test hypothesis and to check assumptions with the help of summary statistics and graphical representations."
      ],
      "id": "Ghl-yHbW3PTE"
    },
    {
      "cell_type": "markdown",
      "metadata": {
        "id": "QJtokqDB3PTE"
      },
      "source": [
        "### 2.1. **Describe the data.**"
      ],
      "id": "QJtokqDB3PTE"
    },
    {
      "cell_type": "code",
      "execution_count": null,
      "metadata": {
        "tags": [],
        "id": "JDYD_fjy3PTE",
        "colab": {
          "base_uri": "https://localhost:8080/",
          "height": 320
        },
        "outputId": "ab2e703f-3bab-4bb9-c071-9759558fe63e"
      },
      "outputs": [
        {
          "output_type": "execute_result",
          "data": {
            "text/plain": [
              "            host_id     latitude    longitude    price in $  minimum_nights  \\\n",
              "count  7.608000e+03  7604.000000  7602.000000   7608.000000     7599.000000   \n",
              "mean   1.032046e+08    52.366726     4.889922    251.106081        4.915647   \n",
              "std    1.393504e+08     0.017070     0.035047    263.094906       33.283433   \n",
              "min    0.000000e+00    52.290340     4.755710      0.000000        1.000000   \n",
              "25%    9.924161e+06    52.355897     4.866045    148.000000        2.000000   \n",
              "50%    3.501297e+07    52.365980     4.887770    203.000000        3.000000   \n",
              "75%    1.402245e+08    52.376470     4.908297    300.000000        4.000000   \n",
              "max    5.183111e+08    52.425120     5.026430  12000.000000     1001.000000   \n",
              "\n",
              "       availability_365       Rating  No_of_bed_rooms   No_of_beds  \\\n",
              "count       7607.000000  6030.000000      7324.000000  7591.000000   \n",
              "mean          79.597082     4.821149         1.582469     1.575155   \n",
              "std          106.486090     0.214414         0.905413     0.901972   \n",
              "min            0.000000     1.670000         1.000000     1.000000   \n",
              "25%            0.000000     4.750000         1.000000     1.000000   \n",
              "50%           21.000000     4.880000         1.000000     1.000000   \n",
              "75%          145.000000     5.000000         2.000000     2.000000   \n",
              "max          365.000000     5.000000        17.000000    17.000000   \n",
              "\n",
              "       No_of_bathrooms  \n",
              "count      6804.000000  \n",
              "mean          1.318783  \n",
              "std           0.518660  \n",
              "min           0.000000  \n",
              "25%           1.000000  \n",
              "50%           1.000000  \n",
              "75%           1.500000  \n",
              "max          17.000000  "
            ],
            "text/html": [
              "\n",
              "  <div id=\"df-5a9e344a-808d-4dda-8fe5-f8ffa333fec7\" class=\"colab-df-container\">\n",
              "    <div>\n",
              "<style scoped>\n",
              "    .dataframe tbody tr th:only-of-type {\n",
              "        vertical-align: middle;\n",
              "    }\n",
              "\n",
              "    .dataframe tbody tr th {\n",
              "        vertical-align: top;\n",
              "    }\n",
              "\n",
              "    .dataframe thead th {\n",
              "        text-align: right;\n",
              "    }\n",
              "</style>\n",
              "<table border=\"1\" class=\"dataframe\">\n",
              "  <thead>\n",
              "    <tr style=\"text-align: right;\">\n",
              "      <th></th>\n",
              "      <th>host_id</th>\n",
              "      <th>latitude</th>\n",
              "      <th>longitude</th>\n",
              "      <th>price in $</th>\n",
              "      <th>minimum_nights</th>\n",
              "      <th>availability_365</th>\n",
              "      <th>Rating</th>\n",
              "      <th>No_of_bed_rooms</th>\n",
              "      <th>No_of_beds</th>\n",
              "      <th>No_of_bathrooms</th>\n",
              "    </tr>\n",
              "  </thead>\n",
              "  <tbody>\n",
              "    <tr>\n",
              "      <th>count</th>\n",
              "      <td>7.608000e+03</td>\n",
              "      <td>7604.000000</td>\n",
              "      <td>7602.000000</td>\n",
              "      <td>7608.000000</td>\n",
              "      <td>7599.000000</td>\n",
              "      <td>7607.000000</td>\n",
              "      <td>6030.000000</td>\n",
              "      <td>7324.000000</td>\n",
              "      <td>7591.000000</td>\n",
              "      <td>6804.000000</td>\n",
              "    </tr>\n",
              "    <tr>\n",
              "      <th>mean</th>\n",
              "      <td>1.032046e+08</td>\n",
              "      <td>52.366726</td>\n",
              "      <td>4.889922</td>\n",
              "      <td>251.106081</td>\n",
              "      <td>4.915647</td>\n",
              "      <td>79.597082</td>\n",
              "      <td>4.821149</td>\n",
              "      <td>1.582469</td>\n",
              "      <td>1.575155</td>\n",
              "      <td>1.318783</td>\n",
              "    </tr>\n",
              "    <tr>\n",
              "      <th>std</th>\n",
              "      <td>1.393504e+08</td>\n",
              "      <td>0.017070</td>\n",
              "      <td>0.035047</td>\n",
              "      <td>263.094906</td>\n",
              "      <td>33.283433</td>\n",
              "      <td>106.486090</td>\n",
              "      <td>0.214414</td>\n",
              "      <td>0.905413</td>\n",
              "      <td>0.901972</td>\n",
              "      <td>0.518660</td>\n",
              "    </tr>\n",
              "    <tr>\n",
              "      <th>min</th>\n",
              "      <td>0.000000e+00</td>\n",
              "      <td>52.290340</td>\n",
              "      <td>4.755710</td>\n",
              "      <td>0.000000</td>\n",
              "      <td>1.000000</td>\n",
              "      <td>0.000000</td>\n",
              "      <td>1.670000</td>\n",
              "      <td>1.000000</td>\n",
              "      <td>1.000000</td>\n",
              "      <td>0.000000</td>\n",
              "    </tr>\n",
              "    <tr>\n",
              "      <th>25%</th>\n",
              "      <td>9.924161e+06</td>\n",
              "      <td>52.355897</td>\n",
              "      <td>4.866045</td>\n",
              "      <td>148.000000</td>\n",
              "      <td>2.000000</td>\n",
              "      <td>0.000000</td>\n",
              "      <td>4.750000</td>\n",
              "      <td>1.000000</td>\n",
              "      <td>1.000000</td>\n",
              "      <td>1.000000</td>\n",
              "    </tr>\n",
              "    <tr>\n",
              "      <th>50%</th>\n",
              "      <td>3.501297e+07</td>\n",
              "      <td>52.365980</td>\n",
              "      <td>4.887770</td>\n",
              "      <td>203.000000</td>\n",
              "      <td>3.000000</td>\n",
              "      <td>21.000000</td>\n",
              "      <td>4.880000</td>\n",
              "      <td>1.000000</td>\n",
              "      <td>1.000000</td>\n",
              "      <td>1.000000</td>\n",
              "    </tr>\n",
              "    <tr>\n",
              "      <th>75%</th>\n",
              "      <td>1.402245e+08</td>\n",
              "      <td>52.376470</td>\n",
              "      <td>4.908297</td>\n",
              "      <td>300.000000</td>\n",
              "      <td>4.000000</td>\n",
              "      <td>145.000000</td>\n",
              "      <td>5.000000</td>\n",
              "      <td>2.000000</td>\n",
              "      <td>2.000000</td>\n",
              "      <td>1.500000</td>\n",
              "    </tr>\n",
              "    <tr>\n",
              "      <th>max</th>\n",
              "      <td>5.183111e+08</td>\n",
              "      <td>52.425120</td>\n",
              "      <td>5.026430</td>\n",
              "      <td>12000.000000</td>\n",
              "      <td>1001.000000</td>\n",
              "      <td>365.000000</td>\n",
              "      <td>5.000000</td>\n",
              "      <td>17.000000</td>\n",
              "      <td>17.000000</td>\n",
              "      <td>17.000000</td>\n",
              "    </tr>\n",
              "  </tbody>\n",
              "</table>\n",
              "</div>\n",
              "    <div class=\"colab-df-buttons\">\n",
              "\n",
              "  <div class=\"colab-df-container\">\n",
              "    <button class=\"colab-df-convert\" onclick=\"convertToInteractive('df-5a9e344a-808d-4dda-8fe5-f8ffa333fec7')\"\n",
              "            title=\"Convert this dataframe to an interactive table.\"\n",
              "            style=\"display:none;\">\n",
              "\n",
              "  <svg xmlns=\"http://www.w3.org/2000/svg\" height=\"24px\" viewBox=\"0 -960 960 960\">\n",
              "    <path d=\"M120-120v-720h720v720H120Zm60-500h600v-160H180v160Zm220 220h160v-160H400v160Zm0 220h160v-160H400v160ZM180-400h160v-160H180v160Zm440 0h160v-160H620v160ZM180-180h160v-160H180v160Zm440 0h160v-160H620v160Z\"/>\n",
              "  </svg>\n",
              "    </button>\n",
              "\n",
              "  <style>\n",
              "    .colab-df-container {\n",
              "      display:flex;\n",
              "      gap: 12px;\n",
              "    }\n",
              "\n",
              "    .colab-df-convert {\n",
              "      background-color: #E8F0FE;\n",
              "      border: none;\n",
              "      border-radius: 50%;\n",
              "      cursor: pointer;\n",
              "      display: none;\n",
              "      fill: #1967D2;\n",
              "      height: 32px;\n",
              "      padding: 0 0 0 0;\n",
              "      width: 32px;\n",
              "    }\n",
              "\n",
              "    .colab-df-convert:hover {\n",
              "      background-color: #E2EBFA;\n",
              "      box-shadow: 0px 1px 2px rgba(60, 64, 67, 0.3), 0px 1px 3px 1px rgba(60, 64, 67, 0.15);\n",
              "      fill: #174EA6;\n",
              "    }\n",
              "\n",
              "    .colab-df-buttons div {\n",
              "      margin-bottom: 4px;\n",
              "    }\n",
              "\n",
              "    [theme=dark] .colab-df-convert {\n",
              "      background-color: #3B4455;\n",
              "      fill: #D2E3FC;\n",
              "    }\n",
              "\n",
              "    [theme=dark] .colab-df-convert:hover {\n",
              "      background-color: #434B5C;\n",
              "      box-shadow: 0px 1px 3px 1px rgba(0, 0, 0, 0.15);\n",
              "      filter: drop-shadow(0px 1px 2px rgba(0, 0, 0, 0.3));\n",
              "      fill: #FFFFFF;\n",
              "    }\n",
              "  </style>\n",
              "\n",
              "    <script>\n",
              "      const buttonEl =\n",
              "        document.querySelector('#df-5a9e344a-808d-4dda-8fe5-f8ffa333fec7 button.colab-df-convert');\n",
              "      buttonEl.style.display =\n",
              "        google.colab.kernel.accessAllowed ? 'block' : 'none';\n",
              "\n",
              "      async function convertToInteractive(key) {\n",
              "        const element = document.querySelector('#df-5a9e344a-808d-4dda-8fe5-f8ffa333fec7');\n",
              "        const dataTable =\n",
              "          await google.colab.kernel.invokeFunction('convertToInteractive',\n",
              "                                                    [key], {});\n",
              "        if (!dataTable) return;\n",
              "\n",
              "        const docLinkHtml = 'Like what you see? Visit the ' +\n",
              "          '<a target=\"_blank\" href=https://colab.research.google.com/notebooks/data_table.ipynb>data table notebook</a>'\n",
              "          + ' to learn more about interactive tables.';\n",
              "        element.innerHTML = '';\n",
              "        dataTable['output_type'] = 'display_data';\n",
              "        await google.colab.output.renderOutput(dataTable, element);\n",
              "        const docLink = document.createElement('div');\n",
              "        docLink.innerHTML = docLinkHtml;\n",
              "        element.appendChild(docLink);\n",
              "      }\n",
              "    </script>\n",
              "  </div>\n",
              "\n",
              "\n",
              "<div id=\"df-ccd2339b-161d-456b-b1e5-bb9ee90548ae\">\n",
              "  <button class=\"colab-df-quickchart\" onclick=\"quickchart('df-ccd2339b-161d-456b-b1e5-bb9ee90548ae')\"\n",
              "            title=\"Suggest charts.\"\n",
              "            style=\"display:none;\">\n",
              "\n",
              "<svg xmlns=\"http://www.w3.org/2000/svg\" height=\"24px\"viewBox=\"0 0 24 24\"\n",
              "     width=\"24px\">\n",
              "    <g>\n",
              "        <path d=\"M19 3H5c-1.1 0-2 .9-2 2v14c0 1.1.9 2 2 2h14c1.1 0 2-.9 2-2V5c0-1.1-.9-2-2-2zM9 17H7v-7h2v7zm4 0h-2V7h2v10zm4 0h-2v-4h2v4z\"/>\n",
              "    </g>\n",
              "</svg>\n",
              "  </button>\n",
              "\n",
              "<style>\n",
              "  .colab-df-quickchart {\n",
              "      --bg-color: #E8F0FE;\n",
              "      --fill-color: #1967D2;\n",
              "      --hover-bg-color: #E2EBFA;\n",
              "      --hover-fill-color: #174EA6;\n",
              "      --disabled-fill-color: #AAA;\n",
              "      --disabled-bg-color: #DDD;\n",
              "  }\n",
              "\n",
              "  [theme=dark] .colab-df-quickchart {\n",
              "      --bg-color: #3B4455;\n",
              "      --fill-color: #D2E3FC;\n",
              "      --hover-bg-color: #434B5C;\n",
              "      --hover-fill-color: #FFFFFF;\n",
              "      --disabled-bg-color: #3B4455;\n",
              "      --disabled-fill-color: #666;\n",
              "  }\n",
              "\n",
              "  .colab-df-quickchart {\n",
              "    background-color: var(--bg-color);\n",
              "    border: none;\n",
              "    border-radius: 50%;\n",
              "    cursor: pointer;\n",
              "    display: none;\n",
              "    fill: var(--fill-color);\n",
              "    height: 32px;\n",
              "    padding: 0;\n",
              "    width: 32px;\n",
              "  }\n",
              "\n",
              "  .colab-df-quickchart:hover {\n",
              "    background-color: var(--hover-bg-color);\n",
              "    box-shadow: 0 1px 2px rgba(60, 64, 67, 0.3), 0 1px 3px 1px rgba(60, 64, 67, 0.15);\n",
              "    fill: var(--button-hover-fill-color);\n",
              "  }\n",
              "\n",
              "  .colab-df-quickchart-complete:disabled,\n",
              "  .colab-df-quickchart-complete:disabled:hover {\n",
              "    background-color: var(--disabled-bg-color);\n",
              "    fill: var(--disabled-fill-color);\n",
              "    box-shadow: none;\n",
              "  }\n",
              "\n",
              "  .colab-df-spinner {\n",
              "    border: 2px solid var(--fill-color);\n",
              "    border-color: transparent;\n",
              "    border-bottom-color: var(--fill-color);\n",
              "    animation:\n",
              "      spin 1s steps(1) infinite;\n",
              "  }\n",
              "\n",
              "  @keyframes spin {\n",
              "    0% {\n",
              "      border-color: transparent;\n",
              "      border-bottom-color: var(--fill-color);\n",
              "      border-left-color: var(--fill-color);\n",
              "    }\n",
              "    20% {\n",
              "      border-color: transparent;\n",
              "      border-left-color: var(--fill-color);\n",
              "      border-top-color: var(--fill-color);\n",
              "    }\n",
              "    30% {\n",
              "      border-color: transparent;\n",
              "      border-left-color: var(--fill-color);\n",
              "      border-top-color: var(--fill-color);\n",
              "      border-right-color: var(--fill-color);\n",
              "    }\n",
              "    40% {\n",
              "      border-color: transparent;\n",
              "      border-right-color: var(--fill-color);\n",
              "      border-top-color: var(--fill-color);\n",
              "    }\n",
              "    60% {\n",
              "      border-color: transparent;\n",
              "      border-right-color: var(--fill-color);\n",
              "    }\n",
              "    80% {\n",
              "      border-color: transparent;\n",
              "      border-right-color: var(--fill-color);\n",
              "      border-bottom-color: var(--fill-color);\n",
              "    }\n",
              "    90% {\n",
              "      border-color: transparent;\n",
              "      border-bottom-color: var(--fill-color);\n",
              "    }\n",
              "  }\n",
              "</style>\n",
              "\n",
              "  <script>\n",
              "    async function quickchart(key) {\n",
              "      const quickchartButtonEl =\n",
              "        document.querySelector('#' + key + ' button');\n",
              "      quickchartButtonEl.disabled = true;  // To prevent multiple clicks.\n",
              "      quickchartButtonEl.classList.add('colab-df-spinner');\n",
              "      try {\n",
              "        const charts = await google.colab.kernel.invokeFunction(\n",
              "            'suggestCharts', [key], {});\n",
              "      } catch (error) {\n",
              "        console.error('Error during call to suggestCharts:', error);\n",
              "      }\n",
              "      quickchartButtonEl.classList.remove('colab-df-spinner');\n",
              "      quickchartButtonEl.classList.add('colab-df-quickchart-complete');\n",
              "    }\n",
              "    (() => {\n",
              "      let quickchartButtonEl =\n",
              "        document.querySelector('#df-ccd2339b-161d-456b-b1e5-bb9ee90548ae button');\n",
              "      quickchartButtonEl.style.display =\n",
              "        google.colab.kernel.accessAllowed ? 'block' : 'none';\n",
              "    })();\n",
              "  </script>\n",
              "</div>\n",
              "    </div>\n",
              "  </div>\n"
            ]
          },
          "metadata": {},
          "execution_count": 91
        }
      ],
      "source": [
        "# Describe data here.\n",
        "df.describe()\n"
      ],
      "id": "JDYD_fjy3PTE"
    },
    {
      "cell_type": "markdown",
      "metadata": {
        "id": "YqrRxY243PTK"
      },
      "source": [
        "### 2.2. **Identify significant correlations.**"
      ],
      "id": "YqrRxY243PTK"
    },
    {
      "cell_type": "code",
      "execution_count": null,
      "metadata": {
        "tags": [],
        "id": "cMwlMuVQ3PTK"
      },
      "outputs": [],
      "source": [
        "# 2.2.1 Build the correlation matrix\n",
        "numeric_columns = df2.select_dtypes(include=[float, int])\n",
        "correlation_matrix = numeric_columns.corr()\n"
      ],
      "id": "cMwlMuVQ3PTK"
    },
    {
      "cell_type": "code",
      "execution_count": null,
      "metadata": {
        "tags": [],
        "id": "iP-FurUv3PTL",
        "colab": {
          "base_uri": "https://localhost:8080/",
          "height": 807
        },
        "outputId": "a0c1b9a2-fd96-43c8-d819-8d91260a4100"
      },
      "outputs": [
        {
          "output_type": "display_data",
          "data": {
            "text/plain": [
              "<Figure size 1000x800 with 2 Axes>"
            ],
            "image/png": "[encoded data removed]"
          },
          "metadata": {}
        }
      ],
      "source": [
        "# 2.2.2 Display the correlation matrix as a heatmap\n",
        "plt.figure(figsize=(10, 8))\n",
        "sns.heatmap(correlation_matrix, annot=True, cmap='coolwarm', fmt=\".2f\")\n",
        "plt.title(\"Correlation Heatmap\")\n",
        "plt.show()"
      ],
      "id": "iP-FurUv3PTL"
    },
    {
      "cell_type": "markdown",
      "metadata": {
        "id": "oSpVlvxu3PTL"
      },
      "source": [
        "### 2.3. **Check if is there any multicollinearity.**"
      ],
      "id": "oSpVlvxu3PTL"
    },
    {
      "cell_type": "code",
      "execution_count": null,
      "metadata": {
        "id": "5FuqTsSN3PTL"
      },
      "outputs": [],
      "source": [
        "#Import the statsmodels tools needed to perform VIF.\n",
        "from statsmodels.stats.outliers_influence import variance_inflation_factor\n",
        "import statsmodels.api as sm"
      ],
      "id": "5FuqTsSN3PTL"
    },
    {
      "cell_type": "code",
      "execution_count": null,
      "metadata": {
        "tags": [],
        "id": "l8chnGz_3PTL",
        "colab": {
          "base_uri": "https://localhost:8080/"
        },
        "outputId": "651ae982-a552-4835-da17-70c2fb38f7ba"
      },
      "outputs": [
        {
          "output_type": "stream",
          "name": "stdout",
          "text": [
            "   price in $  minimum_nights  availability_365  Rating  No_of_bed_rooms  \\\n",
            "0        69.0             3.0               7.0    4.89              1.0   \n",
            "2       270.0             4.0               2.0    4.86              3.0   \n",
            "3       200.0             3.0               0.0    4.76              1.0   \n",
            "4       137.0             3.0               0.0    4.94              1.0   \n",
            "5       170.0             3.0             157.0    4.77              1.0   \n",
            "\n",
            "   No_of_beds  No_of_bathrooms  Bathroom_type  \n",
            "0         1.0              1.5              0  \n",
            "2         3.0              1.5              1  \n",
            "3         1.0              1.5              1  \n",
            "4         1.0              1.5              1  \n",
            "5         1.0              1.0              1  \n"
          ]
        }
      ],
      "source": [
        "# 2.3.1 Select all numerical columns *except* host_id.\n",
        "\n",
        "numerical_columns = df2.select_dtypes(include=['number']).drop(columns=['host_id'])\n",
        "print(numerical_columns.head())"
      ],
      "id": "l8chnGz_3PTL"
    },
    {
      "cell_type": "code",
      "execution_count": null,
      "metadata": {
        "id": "nhdT6piA3PTL",
        "colab": {
          "base_uri": "https://localhost:8080/"
        },
        "outputId": "2c9999ee-c5ed-45dc-f95b-9afd60302305"
      },
      "outputs": [
        {
          "output_type": "execute_result",
          "data": {
            "text/plain": [
              "host_id             0\n",
              "neighbourhood       0\n",
              "room_type           0\n",
              "price in $          0\n",
              "minimum_nights      0\n",
              "availability_365    0\n",
              "Apartment_type      0\n",
              "City                0\n",
              "Rating              0\n",
              "No_of_bed_rooms     0\n",
              "No_of_beds          0\n",
              "No_of_bathrooms     0\n",
              "Bathroom_type       0\n",
              "dtype: int64"
            ]
          },
          "metadata": {},
          "execution_count": 116
        }
      ],
      "source": [
        "# 2.3.2 Make sure there are no missing (NaN) values\n",
        "df2.isnull().sum()"
      ],
      "id": "nhdT6piA3PTL"
    },
    {
      "cell_type": "code",
      "execution_count": null,
      "metadata": {
        "id": "S8h0O-cy3PTL"
      },
      "outputs": [],
      "source": [
        "# 2.3.3 Add a constant column for the VIF calculation - VIF (Variance Inflation Factor)\n",
        "numerical_columns = sm.add_constant(numerical_columns)\n"
      ],
      "id": "S8h0O-cy3PTL"
    },
    {
      "cell_type": "code",
      "execution_count": null,
      "metadata": {
        "id": "m4qigG9O3PTL",
        "colab": {
          "base_uri": "https://localhost:8080/"
        },
        "outputId": "6236fbca-6bed-4f2b-9ad6-8d64b1c7e225"
      },
      "outputs": [
        {
          "output_type": "stream",
          "name": "stdout",
          "text": [
            "           Features         VIF\n",
            "0             const  534.320122\n",
            "1        price in $    1.201058\n",
            "2    minimum_nights    1.000520\n",
            "3  availability_365    1.114930\n",
            "4            Rating    1.058086\n",
            "5   No_of_bed_rooms         inf\n",
            "6        No_of_beds         inf\n",
            "7   No_of_bathrooms    1.328305\n",
            "8     Bathroom_type    1.118485\n"
          ]
        },
        {
          "output_type": "stream",
          "name": "stderr",
          "text": [
            "/usr/local/lib/python3.10/dist-packages/statsmodels/stats/outliers_influence.py:198: RuntimeWarning: divide by zero encountered in double_scalars\n",
            "  vif = 1. / (1. - r_squared_i)\n"
          ]
        }
      ],
      "source": [
        "# 2.3.4 Calculate the VIF for each of the columns and display the information.\n",
        "numerical_columns = numerical_columns.fillna(numerical_columns.mean())\n",
        "\n",
        "vif_data = pd.DataFrame()\n",
        "vif_data['Features'] = numerical_columns.columns\n",
        "vif_data['VIF'] = [variance_inflation_factor(numerical_columns.values, i) for i in range(numerical_columns.shape[1])]\n",
        "print(vif_data)"
      ],
      "id": "m4qigG9O3PTL"
    },
    {
      "cell_type": "markdown",
      "metadata": {
        "id": "rJ30vskI3PTL"
      },
      "source": [
        "### 2.4. **Spot outliers in the dataset.**\n",
        "(we will not remove outliers for this homework)."
      ],
      "id": "rJ30vskI3PTL"
    },
    {
      "cell_type": "code",
      "execution_count": null,
      "metadata": {
        "tags": [],
        "id": "63OzB2Gr3PTM",
        "colab": {
          "base_uri": "https://localhost:8080/",
          "height": 573
        },
        "outputId": "33574be9-f827-4491-9706-add26660f84a"
      },
      "outputs": [
        {
          "output_type": "display_data",
          "data": {
            "text/plain": [
              "<Figure size 800x600 with 1 Axes>"
            ],
            "image/png": "[encoded data removed]"
          },
          "metadata": {}
        }
      ],
      "source": [
        "# 2.4.1. Show boxplot of price in $\n",
        "sns.set(style=\"whitegrid\")\n",
        "plt.figure(figsize=(8, 6))\n",
        "sns.boxplot(x=df2['price in $'])\n",
        "plt.title('Boxplot of Price in $')\n",
        "plt.xlabel('Price in $')\n",
        "\n",
        "plt.show()"
      ],
      "id": "63OzB2Gr3PTM"
    },
    {
      "cell_type": "code",
      "execution_count": null,
      "metadata": {
        "tags": [],
        "id": "iRvzHYZd3PTM",
        "colab": {
          "base_uri": "https://localhost:8080/"
        },
        "outputId": "0a36f13d-7bc6-4f56-bc73-43b79770f095"
      },
      "outputs": [
        {
          "output_type": "stream",
          "name": "stdout",
          "text": [
            "12000.0\n"
          ]
        }
      ],
      "source": [
        "# 2.4.2 Show the maximum price in $\n",
        "max_price = df['price in $'].max()\n",
        "print(max_price)"
      ],
      "id": "iRvzHYZd3PTM"
    },
    {
      "cell_type": "code",
      "execution_count": null,
      "metadata": {
        "tags": [],
        "id": "-sSmcB2c3PTM",
        "colab": {
          "base_uri": "https://localhost:8080/",
          "height": 573
        },
        "outputId": "6b740fc5-6e5a-4331-b0be-36265782d948"
      },
      "outputs": [
        {
          "output_type": "display_data",
          "data": {
            "text/plain": [
              "<Figure size 800x600 with 1 Axes>"
            ],
            "image/png": "[encoded data removed]"
          },
          "metadata": {}
        }
      ],
      "source": [
        "# 2.4.3 Show a boxplot for minimum_nights\n",
        "plt.figure(figsize=(8, 6))\n",
        "plt.boxplot(df2['minimum_nights'], vert=False)\n",
        "plt.title('Boxplot of minimum_nights')\n",
        "plt.xlabel('minimum_nights')\n",
        "plt.show()"
      ],
      "id": "-sSmcB2c3PTM"
    },
    {
      "cell_type": "code",
      "execution_count": null,
      "metadata": {
        "tags": [],
        "id": "NhnUpSGV3PTM",
        "colab": {
          "base_uri": "https://localhost:8080/",
          "height": 573
        },
        "outputId": "e9c2c40c-df16-4031-e690-0a74bc385c10"
      },
      "outputs": [
        {
          "output_type": "display_data",
          "data": {
            "text/plain": [
              "<Figure size 800x600 with 1 Axes>"
            ],
            "image/png": "[encoded data removed]"
          },
          "metadata": {}
        }
      ],
      "source": [
        "# 2.4.4 Show a boxplot for Rating\n",
        "plt.figure(figsize=(8, 6))\n",
        "plt.boxplot(df2['Rating'], vert=False)\n",
        "plt.title('Boxplot of Rating')\n",
        "plt.xlabel('Rating')\n",
        "plt.show()"
      ],
      "id": "NhnUpSGV3PTM"
    },
    {
      "cell_type": "code",
      "execution_count": null,
      "metadata": {
        "tags": [],
        "id": "PyPbBxvx3PTM"
      },
      "outputs": [],
      "source": [
        "# 2.4.5 Define a function to drop outliers beyond a specific multiplier of the IQR.\n",
        "\n",
        "def drop_outliers_iqr(data, column, iqr_multiplier=1.5):\n",
        "    Q1 = data[column].quantile(0.25)\n",
        "    Q3 = data[column].quantile(0.75)\n",
        "    IQR = Q3 - Q1\n",
        "\n",
        "    lower_bound = Q1 - iqr_multiplier * IQR\n",
        "    upper_bound = Q3 + iqr_multiplier * IQR\n",
        "\n",
        "    data_filtered = data[(data[column] >= lower_bound) & (data[column] <= upper_bound)]\n",
        "\n",
        "    return data_filtered"
      ],
      "id": "PyPbBxvx3PTM"
    },
    {
      "cell_type": "code",
      "execution_count": null,
      "metadata": {
        "tags": [],
        "id": "9L70EO193PTM"
      },
      "outputs": [],
      "source": [
        "# 2.4.6 Find outliers for 'price in $', 'minimum_nights', and 'Rating' using the standard multiplier (1.5)\n",
        "\n",
        "# Find and drop outliers for 'price in $' using the standard multiplier (1.5)\n",
        "df3 = drop_outliers_iqr(df2, 'price in $', iqr_multiplier=1.5)\n",
        "\n",
        "# Find and drop outliers for 'minimum_nights' using the standard multiplier (1.5)\n",
        "df3 = drop_outliers_iqr(df2, 'minimum_nights', iqr_multiplier=1.5)\n",
        "\n",
        "# Find and drop outliers for 'Rating' using the standard multiplier (1.5)\n",
        "df3 = drop_outliers_iqr(df2, 'Rating', iqr_multiplier=1.5)"
      ],
      "id": "9L70EO193PTM"
    },
    {
      "cell_type": "code",
      "execution_count": null,
      "metadata": {
        "tags": [],
        "id": "4-DbiGfT3PTM",
        "colab": {
          "base_uri": "https://localhost:8080/"
        },
        "outputId": "cd6da00f-2041-4355-c8f9-0bcdeeaac04a"
      },
      "outputs": [
        {
          "output_type": "stream",
          "name": "stdout",
          "text": [
            "Number of outliers in 'price in $': -41\n",
            "Number of outliers in 'minimum_nights': 41\n",
            "Number of outliers in 'Rating': -41\n"
          ]
        }
      ],
      "source": [
        "# 2.4.7 Display the count of outliers in each selected column\n",
        "\n",
        "outliers_count_price = len(df3) - len(df2)\n",
        "outliers_count_minimum_nights = len(df2) - len(df3)\n",
        "outliers_count_rating = len(df3) - len(df2)  # If you dropped outliers from the original DataFrame\n",
        "\n",
        "print(\"Number of outliers in 'price in $':\", outliers_count_price)\n",
        "print(\"Number of outliers in 'minimum_nights':\", outliers_count_minimum_nights)\n",
        "print(\"Number of outliers in 'Rating':\", outliers_count_rating)"
      ],
      "id": "4-DbiGfT3PTM"
    },
    {
      "cell_type": "code",
      "execution_count": null,
      "metadata": {
        "tags": [],
        "id": "N1uYGof63PTN"
      },
      "outputs": [],
      "source": [
        "# 2.4.8 Find outliers for the same column using a multiplier of 3.\n",
        "\n",
        "# Find and drop outliers for 'price in $' using a multiplier of 3\n",
        "df_new = drop_outliers_iqr(df2, 'price in $', iqr_multiplier=3)\n",
        "\n",
        "# Find and drop outliers for 'minimum_nights' using a multiplier of 3\n",
        "df_new = drop_outliers_iqr(df2, 'minimum_nights', iqr_multiplier=3)\n",
        "\n",
        "# Find and drop outliers for 'Rating' using a multiplier of 3\n",
        "df_new = drop_outliers_iqr(df2, 'Rating', iqr_multiplier=3)"
      ],
      "id": "N1uYGof63PTN"
    },
    {
      "cell_type": "code",
      "execution_count": null,
      "metadata": {
        "id": "ir7bysnT3PTN",
        "colab": {
          "base_uri": "https://localhost:8080/"
        },
        "outputId": "ed4209a0-e80a-42c5-af41-fedc4ee1d32d"
      },
      "outputs": [
        {
          "output_type": "stream",
          "name": "stdout",
          "text": [
            "Number of outliers in 'price in $': 0\n",
            "Number of outliers in 'minimum_nights': 0\n",
            "Number of outliers in 'Rating': 0\n"
          ]
        }
      ],
      "source": [
        "# 2.4.9 Display the new count of outliers in each selected column\n",
        "\n",
        "outliers_count_price = len(df_new) - len(df2)\n",
        "outliers_count_minimum_nights = len(df2) - len(df_new)\n",
        "outliers_count_rating = len(df_new) - len(df2)  # If you dropped outliers from the original DataFrame\n",
        "\n",
        "print(\"Number of outliers in 'price in $':\", outliers_count_price)\n",
        "print(\"Number of outliers in 'minimum_nights':\", outliers_count_minimum_nights)\n",
        "print(\"Number of outliers in 'Rating':\", outliers_count_rating)"
      ],
      "id": "ir7bysnT3PTN"
    },
    {
      "cell_type": "raw",
      "metadata": {
        "id": "Y9hzHCaz3PTN"
      },
      "source": [
        "2.4.10 What do you think should be done with the outliers for each of the columns?\n",
        "(You are not required to actually remove them for thie Homework).\n",
        "\n",
        "price in $:\n",
        "\n",
        "minimum_nights:\n",
        "\n",
        "Rating:\n"
      ],
      "id": "Y9hzHCaz3PTN"
    },
    {
      "cell_type": "markdown",
      "metadata": {
        "id": "nKtpuio43PTN"
      },
      "source": [
        "### 2.5. **Compute the Average Price for Each Type of Listing.**"
      ],
      "id": "nKtpuio43PTN"
    },
    {
      "cell_type": "code",
      "execution_count": null,
      "metadata": {
        "tags": [],
        "id": "xrkSpCwi3PTN",
        "colab": {
          "base_uri": "https://localhost:8080/"
        },
        "outputId": "97e1e136-2cf2-4efd-fc13-2d80f547b8b4"
      },
      "outputs": [
        {
          "output_type": "stream",
          "name": "stdout",
          "text": [
            "room_type\n",
            "Entire home/apt    236.083600\n",
            "Hotel room         210.565217\n",
            "Private room       163.672135\n",
            "Shared room        137.166667\n",
            "Name: price in $, dtype: float64\n"
          ]
        }
      ],
      "source": [
        "# 2.5.1 Group the data by 'room_type' and calculate the average price for each type\n",
        "\n",
        "average_price_by_room_type = df.groupby('room_type')['price in $'].mean()\n",
        "print(average_price_by_room_type)"
      ],
      "id": "xrkSpCwi3PTN"
    },
    {
      "cell_type": "code",
      "execution_count": null,
      "metadata": {
        "tags": [],
        "id": "jEAc2bJq3PTN",
        "colab": {
          "base_uri": "https://localhost:8080/",
          "height": 480
        },
        "outputId": "64e7b1c5-9290-4600-85e9-d5714460f7d0"
      },
      "outputs": [
        {
          "output_type": "display_data",
          "data": {
            "text/plain": [
              "<Figure size 640x480 with 1 Axes>"
            ],
            "image/png": "[encoded data removed]"
          },
          "metadata": {}
        }
      ],
      "source": [
        "# 2.5.2 Plot and display  the average price for each room type\n",
        "ax = average_price_by_room_type.plot(kind='bar', rot=0)\n",
        "plt.title('Average Price by Room Type')\n",
        "plt.xlabel('Room Type')\n",
        "plt.ylabel('Average Price in $')\n",
        "for i, v in enumerate(average_price_by_room_type):\n",
        "    ax.text(i, v, f'{v:.2f}', ha='center', va='bottom')\n",
        "plt.show()"
      ],
      "id": "jEAc2bJq3PTN"
    },
    {
      "cell_type": "markdown",
      "metadata": {
        "id": "DCMWd-SK3PTO"
      },
      "source": [
        "### 2.6. **How Many Listings Are There for Each Unique 'Apartment Type'?**"
      ],
      "id": "DCMWd-SK3PTO"
    },
    {
      "cell_type": "code",
      "execution_count": null,
      "metadata": {
        "tags": [],
        "id": "jkdIWIpU3PTO",
        "colab": {
          "base_uri": "https://localhost:8080/"
        },
        "outputId": "f9eeaaeb-da45-4d1e-b053-d860d436f72d"
      },
      "outputs": [
        {
          "output_type": "stream",
          "name": "stdout",
          "text": [
            "Rental unit           2398\n",
            "Condo                 1060\n",
            "Home                   455\n",
            "Bed and breakfast      267\n",
            "Townhouse              247\n",
            "Houseboat              205\n",
            "Loft                   159\n",
            "Boat                   116\n",
            "Guest suite            104\n",
            "Boutique hotel          73\n",
            "Hotel                   70\n",
            "Serviced apartment      59\n",
            "Guesthouse              31\n",
            "Hostel                  31\n",
            "Place to stay           16\n",
            "Villa                   16\n",
            "Aparthotel              12\n",
            "casa particular         10\n",
            "Vacation home            9\n",
            "Tiny home                8\n",
            "Cabin                    6\n",
            "Farm stay                5\n",
            "Earthen home             4\n",
            "Nature lodge             2\n",
            "Camper/RV                2\n",
            "Chalet                   2\n",
            "Cottage                  1\n",
            "Tower                    1\n",
            "Barn                     1\n",
            "Bungalow                 1\n",
            "Tent                     1\n",
            "Name: Apartment_type, dtype: int64\n"
          ]
        }
      ],
      "source": [
        "# 2.6.1 Count the frequency of each unique 'Apartment_type'\n",
        "apartment_type_counts = df['Apartment_type'].value_counts()\n",
        "print(apartment_type_counts)"
      ],
      "id": "jkdIWIpU3PTO"
    },
    {
      "cell_type": "code",
      "execution_count": null,
      "metadata": {
        "tags": [],
        "id": "0O764w_93PTO",
        "colab": {
          "base_uri": "https://localhost:8080/",
          "height": 660
        },
        "outputId": "a7001b18-25b2-4bd9-9464-5485e7397ee9"
      },
      "outputs": [
        {
          "output_type": "display_data",
          "data": {
            "text/plain": [
              "<Figure size 1500x600 with 1 Axes>"
            ],
            "image/png": "[encoded data removed]"
          },
          "metadata": {}
        }
      ],
      "source": [
        "# 2.6.2 Plot the frequency distribution of 'Apartment_type'\n",
        "\n",
        "plt.figure(figsize=(15, 6))\n",
        "apartment_type_counts.plot(kind='bar', color='skyblue')\n",
        "plt.title('Frequency Distribution of Apartment Type')\n",
        "plt.xlabel('Apartment Type')\n",
        "plt.ylabel('Frequency')\n",
        "plt.xticks(rotation=60)  # Rotate x-axis labels for better readability\n",
        "plt.show()"
      ],
      "id": "0O764w_93PTO"
    },
    {
      "cell_type": "code",
      "execution_count": null,
      "metadata": {
        "tags": [],
        "id": "Sw-hSWqB3PTO",
        "colab": {
          "base_uri": "https://localhost:8080/"
        },
        "outputId": "a429dd52-2e82-4e78-8414-aea5129f0bee"
      },
      "outputs": [
        {
          "output_type": "stream",
          "name": "stdout",
          "text": [
            "Rental unit          2398\n",
            "Condo                1060\n",
            "Home                  455\n",
            "Bed and breakfast     267\n",
            "Townhouse             247\n",
            "Houseboat             205\n",
            "Loft                  159\n",
            "Boat                  116\n",
            "Guest suite           104\n",
            "Boutique hotel         73\n",
            "Name: Apartment_type, dtype: int64\n"
          ]
        }
      ],
      "source": [
        "# 2.6.3. Display the top 10 most common apartment types\n",
        "top_10_apartment_types = apartment_type_counts.head(10)\n",
        "\n",
        "# Displaying the top 10\n",
        "print(top_10_apartment_types)"
      ],
      "id": "Sw-hSWqB3PTO"
    },
    {
      "cell_type": "markdown",
      "metadata": {
        "id": "lpHHJvVk3PTO"
      },
      "source": [
        "### 2.7. **Identify the Top 5 Neighbourhoods with the Highest Average Listing Prices.**"
      ],
      "id": "lpHHJvVk3PTO"
    },
    {
      "cell_type": "code",
      "execution_count": null,
      "metadata": {
        "tags": [],
        "id": "qmlPDxhh3PTO",
        "colab": {
          "base_uri": "https://localhost:8080/"
        },
        "outputId": "53db77d9-8589-484e-acd7-dca42333a11b"
      },
      "outputs": [
        {
          "output_type": "stream",
          "name": "stdout",
          "text": [
            "neighbourhood\n",
            "Centrum-Oost               239.295222\n",
            "De Pijp - Rivierenbuurt    237.624557\n",
            "Centrum-West               236.546500\n",
            "Zuid                       234.536873\n",
            "De Baarsjes - Oud-West     222.526902\n",
            "Name: price in $, dtype: float64\n"
          ]
        }
      ],
      "source": [
        "# 2.7.1 Find the top 5 most expensive neighbourhoods based on average price\n",
        "\n",
        "neighborhood_avg_price = df.groupby('neighbourhood')['price in $'].mean()\n",
        "top_5_expensive_neighborhoods = neighborhood_avg_price.sort_values(ascending=False).head(5)\n",
        "print(top_5_expensive_neighborhoods)"
      ],
      "id": "qmlPDxhh3PTO"
    },
    {
      "cell_type": "code",
      "execution_count": null,
      "metadata": {
        "id": "dTUqLpe13PTO",
        "colab": {
          "base_uri": "https://localhost:8080/",
          "height": 696
        },
        "outputId": "edd759fe-2b3e-41f0-a9dd-7ee5cafbe17f"
      },
      "outputs": [
        {
          "output_type": "display_data",
          "data": {
            "text/plain": [
              "<Figure size 1000x600 with 1 Axes>"
            ],
            "image/png": "[encoded data removed]"
          },
          "metadata": {}
        }
      ],
      "source": [
        "# 2.7.2. Plot and display the top 5 most expensive neighbourhoods\n",
        "\n",
        "plt.figure(figsize=(10, 6))\n",
        "top_5_expensive_neighborhoods.plot(kind='line', color='skyblue')\n",
        "plt.title('Top 5 Most Expensive Neighborhoods')\n",
        "plt.xlabel('Neighborhood')\n",
        "plt.ylabel('Average Price in $')\n",
        "plt.xticks(rotation=45)\n",
        "plt.show()"
      ],
      "id": "dTUqLpe13PTO"
    },
    {
      "cell_type": "markdown",
      "metadata": {
        "id": "KwQ05cuH3PTO"
      },
      "source": [
        "### 2.8. **Which 'Apartment Types' Are Most and Least Frequently Available?**"
      ],
      "id": "KwQ05cuH3PTO"
    },
    {
      "cell_type": "code",
      "execution_count": null,
      "metadata": {
        "id": "zx2_AQzw3PTP",
        "colab": {
          "base_uri": "https://localhost:8080/"
        },
        "outputId": "1f8f3434-4c8e-4fc6-c207-c99b2dd347c9"
      },
      "outputs": [
        {
          "output_type": "stream",
          "name": "stdout",
          "text": [
            "Most Commonly Available Apartment Type: Rental unit (2398 listings)\n",
            "Least Commonly Available Apartment Type: Cottage (1 listings)\n"
          ]
        }
      ],
      "source": [
        "# 2.8.1 Count the frequency of each unique 'Apartment_type' to find the most and least commonly available types\n",
        "apartment_type_counts = df['Apartment_type'].value_counts()\n",
        "\n",
        "most_common_type = apartment_type_counts.idxmax()\n",
        "most_common_count = apartment_type_counts.max()\n",
        "\n",
        "least_common_type = apartment_type_counts.idxmin()\n",
        "least_common_count = apartment_type_counts.min()\n",
        "\n",
        "# Printung most common adn least common\n",
        "print(f\"Most Commonly Available Apartment Type: {most_common_type} ({most_common_count} listings)\")\n",
        "print(f\"Least Commonly Available Apartment Type: {least_common_type} ({least_common_count} listings)\")"
      ],
      "id": "zx2_AQzw3PTP"
    },
    {
      "cell_type": "code",
      "execution_count": null,
      "metadata": {
        "id": "w7VWLfWk3PTP",
        "colab": {
          "base_uri": "https://localhost:8080/"
        },
        "outputId": "258c17ef-dd5b-43cd-d0bd-00b22292f0d1"
      },
      "outputs": [
        {
          "output_type": "stream",
          "name": "stdout",
          "text": [
            "Top 5 Most Commonly Available Apartment Types:\n",
            "Rental unit          2398\n",
            "Condo                1060\n",
            "Home                  455\n",
            "Bed and breakfast     267\n",
            "Townhouse             247\n",
            "Name: Apartment_type, dtype: int64\n",
            "\n",
            "Least Commonly Available Apartment Types:\n",
            "Cottage     1\n",
            "Tower       1\n",
            "Barn        1\n",
            "Bungalow    1\n",
            "Tent        1\n",
            "Name: Apartment_type, dtype: int64\n"
          ]
        }
      ],
      "source": [
        "# 2.8.2 Find the top 5 most commonly available and the least commonly available apartment types\n",
        "\n",
        "# 5 most commonly available types\n",
        "top_5_most_common = apartment_type_counts.head(5)\n",
        "\n",
        "least_common_count = apartment_type_counts.min()\n",
        "least_common_types = apartment_type_counts[apartment_type_counts == least_common_count]\n",
        "\n",
        "# Print\n",
        "print(\"Top 5 Most Commonly Available Apartment Types:\")\n",
        "print(top_5_most_common)\n",
        "\n",
        "print(\"\\nLeast Commonly Available Apartment Types:\")\n",
        "print(least_common_types)"
      ],
      "id": "w7VWLfWk3PTP"
    },
    {
      "cell_type": "code",
      "execution_count": null,
      "metadata": {
        "tags": [],
        "id": "UZTDsHd83PTP",
        "colab": {
          "base_uri": "https://localhost:8080/",
          "height": 668
        },
        "outputId": "251dfef8-9450-429c-d497-56dc11a61b29"
      },
      "outputs": [
        {
          "output_type": "display_data",
          "data": {
            "text/plain": [
              "<Figure size 1000x600 with 1 Axes>"
            ],
            "image/png": "[encoded data removed]"
          },
          "metadata": {}
        }
      ],
      "source": [
        "# 2.8.3 Plot and display the most and least commonly available apartment types\n",
        "least_common_count = apartment_type_counts.min()\n",
        "least_common_types = apartment_type_counts[apartment_type_counts == least_common_count]\n",
        "plt.figure(figsize=(10, 6))\n",
        "plt.bar(top_5_most_common.index, top_5_most_common.values, color='skyblue', label='Most Common')\n",
        "plt.bar(least_common_types.index, least_common_types.values, color='salmon', label='Least Common')\n",
        "plt.xlabel('Apartment Type')\n",
        "plt.ylabel('Count')\n",
        "plt.title('Most and Least Commonly Available Apartment Types')\n",
        "plt.legend()\n",
        "plt.xticks(rotation=45)\n",
        "\n",
        "plt.show()"
      ],
      "id": "UZTDsHd83PTP"
    },
    {
      "cell_type": "code",
      "source": [],
      "metadata": {
        "id": "fEDdVLwNMyGK"
      },
      "id": "fEDdVLwNMyGK",
      "execution_count": null,
      "outputs": []
    }
  ],
  "metadata": {
    "kernelspec": {
      "display_name": "Python 3",
      "language": "python",
      "name": "python3"
    },
    "language_info": {
      "codemirror_mode": {
        "name": "ipython",
        "version": 3
      },
      "file_extension": ".py",
      "mimetype": "text/x-python",
      "name": "python",
      "nbconvert_exporter": "python",
      "pygments_lexer": "ipython3",
      "version": "3.9.2"
    },
    "colab": {
      "provenance": [],
      "include_colab_link": true
    }
  },
  "nbformat": 4,
  "nbformat_minor": 5
}